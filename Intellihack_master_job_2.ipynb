{
  "cells": [
    {
      "cell_type": "markdown",
      "metadata": {
        "id": "nQ4twQ5tMQ2g"
      },
      "source": [
        "# Connecting to drive and loading the modules"
      ]
    },
    {
      "cell_type": "code",
      "execution_count": null,
      "metadata": {
        "colab": {
          "base_uri": "https://localhost:8080/"
        },
        "id": "AtYMnx6FxbgL",
        "outputId": "94a44be1-f3e6-496d-e6f0-f365379729e5"
      },
      "outputs": [
        {
          "name": "stdout",
          "output_type": "stream",
          "text": [
            "Drive already mounted at /content/drive; to attempt to forcibly remount, call drive.mount(\"/content/drive\", force_remount=True).\n"
          ]
        }
      ],
      "source": [
        "from google.colab import drive\n",
        "drive.mount('/content/drive')"
      ]
    },
    {
      "cell_type": "code",
      "execution_count": null,
      "metadata": {
        "id": "BWogu45Dx_Ls"
      },
      "outputs": [],
      "source": [
        "from matplotlib import pyplot as plt\n",
        "import pandas as pd\n",
        "import numpy as np"
      ]
    },
    {
      "cell_type": "markdown",
      "metadata": {
        "id": "ohXaww2XyE4y"
      },
      "source": [
        "# Reading the dataset"
      ]
    },
    {
      "cell_type": "code",
      "execution_count": null,
      "metadata": {
        "colab": {
          "base_uri": "https://localhost:8080/"
        },
        "id": "RbbzGfDtyGzW",
        "outputId": "65f4cf6c-6654-454d-93ca-64a744bd5f97"
      },
      "outputs": [
        {
          "name": "stdout",
          "output_type": "stream",
          "text": [
            "        id      a     b  c  d      e       f     g        h  i\n",
            "0     4453  Black  71.0  1  0  fluid  229.73  30.4     Good  0\n",
            "1     1473  Black  49.0  1  0  solid  139.43  40.2   Normal  0\n",
            "2     2119  Black  42.0  0  0  solid   68.24  33.1   Normal  0\n",
            "3     3391  White  53.0  1  0  solid  240.86  31.9     Good  0\n",
            "4     1000  Black  70.0  1  0  fluid   74.04  29.1     Good  0\n",
            "...    ...    ...   ... .. ..    ...     ...   ...      ... ..\n",
            "3572  1402  Black  57.0  0  0  fluid   85.99  21.2  Unknown  0\n",
            "3573  2927  Black  15.0  0  0  solid  113.28  23.7     Good  0\n",
            "3574  4937  White  62.0  1  0  solid  103.69  35.2    Worse  0\n",
            "3575  3001  Black  33.0  0  0  fluid   91.53  38.8   Normal  0\n",
            "3576  1387  White  37.0  0  0  fluid   98.12  27.5     Good  0\n",
            "\n",
            "[3577 rows x 10 columns]\n",
            "----------------------\n",
            "     id      a     b  c  d      e       f     g        h\n",
            "0   169  Black  81.0  0  0  fluid   91.54  31.4     Good\n",
            "1  4022  White  81.0  1  0  solid  181.23  36.7     Good\n",
            "2  4313  Black  57.0  0  0  solid  134.76  29.1  Unknown\n",
            "3  1052  White  61.0  0  0  fluid   78.65  36.2   Normal\n",
            "4  1100  White  67.0  0  0  solid   68.61  31.9     Good\n"
          ]
        }
      ],
      "source": [
        "train_df = pd.read_csv('/content/drive/MyDrive/intellihack-master/train.csv')\n",
        "test_df = pd.read_csv('/content/drive/MyDrive/intellihack-master/test.csv')\n",
        "print(train_df)\n",
        "print('----------------------')\n",
        "print(test_df.head())"
      ]
    },
    {
      "cell_type": "markdown",
      "metadata": {
        "id": "a501au6TMcQ5"
      },
      "source": [
        "# Feature Engineering"
      ]
    },
    {
      "cell_type": "markdown",
      "metadata": {
        "id": "YN_MuvJw2cMC"
      },
      "source": [
        "## Categorical Encoding"
      ]
    },
    {
      "cell_type": "code",
      "execution_count": null,
      "metadata": {
        "colab": {
          "base_uri": "https://localhost:8080/"
        },
        "id": "IISZ3hBk2ffe",
        "outputId": "0839a163-8ad6-4c46-dc6e-e401c39dd1ed"
      },
      "outputs": [
        {
          "name": "stdout",
          "output_type": "stream",
          "text": [
            "id       int64\n",
            "a     category\n",
            "b      float64\n",
            "c        int64\n",
            "d        int64\n",
            "e     category\n",
            "f      float64\n",
            "g      float64\n",
            "h     category\n",
            "i        int64\n",
            "dtype: object\n",
            "id       int64\n",
            "a     category\n",
            "b      float64\n",
            "c        int64\n",
            "d        int64\n",
            "e     category\n",
            "f      float64\n",
            "g      float64\n",
            "h     category\n",
            "dtype: object\n"
          ]
        }
      ],
      "source": [
        "train_df[\"a\"] = train_df[\"a\"].astype('category')\n",
        "train_df[\"e\"] = train_df[\"e\"].astype('category')\n",
        "train_df[\"h\"] = train_df[\"h\"].astype('category')\n",
        "print(train_df.dtypes)\n",
        "\n",
        "test_df[\"a\"] = test_df[\"a\"].astype('category')\n",
        "test_df[\"e\"] = test_df[\"e\"].astype('category')\n",
        "test_df[\"h\"] = test_df[\"h\"].astype('category')\n",
        "print(test_df.dtypes)"
      ]
    },
    {
      "cell_type": "code",
      "execution_count": null,
      "metadata": {
        "colab": {
          "base_uri": "https://localhost:8080/"
        },
        "id": "kA7hjbOm3akA",
        "outputId": "9748334f-d446-43c5-e09f-e1386a38174d"
      },
      "outputs": [
        {
          "name": "stdout",
          "output_type": "stream",
          "text": [
            "     id  a     b  c  d  e       f     g  h  i\n",
            "0  4453  0  71.0  1  0  0  229.73  30.4  0  0\n",
            "1  1473  0  49.0  1  0  1  139.43  40.2  1  0\n",
            "2  2119  0  42.0  0  0  1   68.24  33.1  1  0\n",
            "3  3391  2  53.0  1  0  1  240.86  31.9  0  0\n",
            "4  1000  0  70.0  1  0  0   74.04  29.1  0  0\n",
            "     id  a     b  c  d  e       f     g  h\n",
            "0   169  0  81.0  0  0  0   91.54  31.4  0\n",
            "1  4022  1  81.0  1  0  1  181.23  36.7  0\n",
            "2  4313  0  57.0  0  0  1  134.76  29.1  2\n",
            "3  1052  1  61.0  0  0  0   78.65  36.2  1\n",
            "4  1100  1  67.0  0  0  1   68.61  31.9  0\n"
          ]
        }
      ],
      "source": [
        "train_df[\"a\"] = train_df[\"a\"].cat.codes\n",
        "train_df[\"e\"] = train_df[\"e\"].cat.codes\n",
        "train_df[\"h\"] = train_df[\"h\"].cat.codes\n",
        "print(train_df.head())\n",
        "\n",
        "test_df[\"a\"] = test_df[\"a\"].cat.codes\n",
        "test_df[\"e\"] = test_df[\"e\"].cat.codes\n",
        "test_df[\"h\"] = test_df[\"h\"].cat.codes\n",
        "print(test_df.head())"
      ]
    },
    {
      "cell_type": "markdown",
      "metadata": {
        "id": "Gx3H50r7HZUH"
      },
      "source": [
        "## Imputation"
      ]
    },
    {
      "cell_type": "code",
      "execution_count": null,
      "metadata": {
        "colab": {
          "base_uri": "https://localhost:8080/"
        },
        "id": "TyGclcp0Hb-s",
        "outputId": "22941336-28cc-4bb0-8706-3e096b7ca708"
      },
      "outputs": [
        {
          "name": "stdout",
          "output_type": "stream",
          "text": [
            "id      0\n",
            "a       0\n",
            "b       0\n",
            "c       0\n",
            "d       0\n",
            "e       0\n",
            "f       0\n",
            "g     145\n",
            "h       0\n",
            "i       0\n",
            "dtype: int64\n",
            "---------------------------\n",
            "id     0\n",
            "a      0\n",
            "b      0\n",
            "c      0\n",
            "d      0\n",
            "e      0\n",
            "f      0\n",
            "g     56\n",
            "h      0\n",
            "dtype: int64\n"
          ]
        }
      ],
      "source": [
        "print(train_df.isnull().sum())\n",
        "print('---------------------------')\n",
        "print(test_df.isnull().sum())  "
      ]
    },
    {
      "cell_type": "code",
      "execution_count": null,
      "metadata": {
        "colab": {
          "base_uri": "https://localhost:8080/"
        },
        "id": "vtQMQowhIIMR",
        "outputId": "7ec3370c-ccd1-4b68-d8ec-f7f392b20cb3"
      },
      "outputs": [
        {
          "name": "stdout",
          "output_type": "stream",
          "text": [
            "id    0\n",
            "a     0\n",
            "b     0\n",
            "c     0\n",
            "d     0\n",
            "e     0\n",
            "f     0\n",
            "g     0\n",
            "h     0\n",
            "i     0\n",
            "dtype: int64\n",
            "---------------------------\n",
            "id    0\n",
            "a     0\n",
            "b     0\n",
            "c     0\n",
            "d     0\n",
            "e     0\n",
            "f     0\n",
            "g     0\n",
            "h     0\n",
            "dtype: int64\n"
          ]
        }
      ],
      "source": [
        "train_df['g'].fillna((train_df['g'].mean()), inplace=True)\n",
        "test_df['g'].fillna((test_df['g'].mean()), inplace=True)\n",
        "\n",
        "print(train_df.isnull().sum())\n",
        "print('---------------------------')\n",
        "print(test_df.isnull().sum())  "
      ]
    },
    {
      "cell_type": "code",
      "execution_count": null,
      "metadata": {
        "colab": {
          "base_uri": "https://localhost:8080/"
        },
        "id": "a4x1nWrKJFNX",
        "outputId": "435a8deb-1bd9-4112-ce60-566adc49945b"
      },
      "outputs": [
        {
          "name": "stdout",
          "output_type": "stream",
          "text": [
            "Empty DataFrame\n",
            "Columns: [id, a, b, c, d, e, f, g, h, i]\n",
            "Index: []\n",
            "Empty DataFrame\n",
            "Columns: [id, a, b, c, d, e, f, g, h, i]\n",
            "Index: []\n",
            "---------------------------------------------------------------\n",
            "Empty DataFrame\n",
            "Columns: [id, a, b, c, d, e, f, g, h]\n",
            "Index: []\n",
            "Empty DataFrame\n",
            "Columns: [id, a, b, c, d, e, f, g, h]\n",
            "Index: []\n"
          ]
        }
      ],
      "source": [
        "print(train_df.loc[(train_df['c'] != 1) & (train_df['c'] != 0)])\n",
        "print(train_df.loc[(train_df['d'] != 1) & (train_df['d'] != 0)])\n",
        "\n",
        "print('---------------------------------------------------------------')\n",
        "\n",
        "print(test_df.loc[(test_df['c'] != 1) & (test_df['c'] != 0)])\n",
        "print(test_df.loc[(test_df['d'] != 1) & (test_df['d'] != 0)])"
      ]
    },
    {
      "cell_type": "markdown",
      "metadata": {
        "id": "q9AdswW3OPbC"
      },
      "source": [
        "## Handling Outliers\n",
        "\n"
      ]
    },
    {
      "cell_type": "code",
      "execution_count": null,
      "metadata": {
        "colab": {
          "base_uri": "https://localhost:8080/",
          "height": 1000
        },
        "id": "JtX_FwxKMNh_",
        "outputId": "ff01e0b2-2967-45c7-e392-7bcc978316f7"
      },
      "outputs": [
        {
          "data": {
            "text/plain": [
              "<matplotlib.axes._subplots.AxesSubplot at 0x7f57c644f590>"
            ]
          },
          "execution_count": 349,
          "metadata": {},
          "output_type": "execute_result"
        },
        {
          "data": {
            "image/png": "[encoded data removed]",
            "text/plain": [
              "<Figure size 720x2160 with 3 Axes>"
            ]
          },
          "metadata": {},
          "output_type": "display_data"
        }
      ],
      "source": [
        "import seaborn as sb\n",
        "from matplotlib import pyplot as plt\n",
        "\n",
        "fig, axes = plt.subplots(nrows=3,ncols=1)\n",
        "fig.set_size_inches(10, 30)\n",
        "sb.boxplot(data=train_df,y=\"b\",orient=\"v\",ax=axes[0], palette=\"Oranges\")\n",
        "sb.boxplot(data=train_df,y=\"f\",orient=\"v\",ax=axes[1], palette=\"Oranges\")\n",
        "sb.boxplot(data=train_df,y=\"g\",orient=\"v\",ax=axes[2], palette=\"Oranges\")"
      ]
    },
    {
      "cell_type": "code",
      "execution_count": null,
      "metadata": {
        "id": "CbaXQm6beimV"
      },
      "outputs": [],
      "source": [
        "factor = 4\n",
        "upper_lim = train_df['b'].mean () + train_df['b'].std () * factor\n",
        "lower_lim = train_df['b'].mean () - train_df['b'].std () * factor\n",
        "\n",
        "train_df = train_df[(train_df['b'] < upper_lim) & (train_df['b'] > lower_lim)]"
      ]
    },
    {
      "cell_type": "code",
      "execution_count": null,
      "metadata": {
        "id": "S5KJoNawfsNi"
      },
      "outputs": [],
      "source": [
        "upper_lim = train_df['f'].mean () + train_df['f'].std () * factor\n",
        "lower_lim = train_df['f'].mean () - train_df['f'].std () * factor\n",
        "\n",
        "train_df = train_df[(train_df['f'] < upper_lim) & (train_df['f'] > lower_lim)]"
      ]
    },
    {
      "cell_type": "code",
      "execution_count": null,
      "metadata": {
        "colab": {
          "base_uri": "https://localhost:8080/"
        },
        "id": "iGjo2xSqf3L0",
        "outputId": "7b15e307-307f-423a-8fb2-01aa39b6a6be"
      },
      "outputs": [
        {
          "name": "stdout",
          "output_type": "stream",
          "text": [
            "        id  a     b  c  d  e       f     g  h  i\n",
            "0     4453  0  71.0  1  0  0  229.73  30.4  0  0\n",
            "1     1473  0  49.0  1  0  1  139.43  40.2  1  0\n",
            "2     2119  0  42.0  0  0  1   68.24  33.1  1  0\n",
            "3     3391  2  53.0  1  0  1  240.86  31.9  0  0\n",
            "4     1000  0  70.0  1  0  0   74.04  29.1  0  0\n",
            "...    ... ..   ... .. .. ..     ...   ... .. ..\n",
            "3572  1402  0  57.0  0  0  0   85.99  21.2  2  0\n",
            "3573  2927  0  15.0  0  0  1  113.28  23.7  0  0\n",
            "3574  4937  2  62.0  1  0  1  103.69  35.2  3  0\n",
            "3575  3001  0  33.0  0  0  0   91.53  38.8  1  0\n",
            "3576  1387  2  37.0  0  0  0   98.12  27.5  0  0\n",
            "\n",
            "[3566 rows x 10 columns]\n"
          ]
        }
      ],
      "source": [
        "upper_lim = train_df['g'].mean () + train_df['g'].std () * factor\n",
        "lower_lim = train_df['g'].mean () - train_df['g'].std () * factor\n",
        "\n",
        "train_df = train_df[(train_df['g'] < upper_lim) & (train_df['g'] > lower_lim)]\n",
        "print(train_df)"
      ]
    },
    {
      "cell_type": "markdown",
      "metadata": {
        "id": "astAaiSSzus6"
      },
      "source": [
        "## Spliting data & target"
      ]
    },
    {
      "cell_type": "code",
      "execution_count": null,
      "metadata": {
        "id": "ZgIBk3rly2Lt"
      },
      "outputs": [],
      "source": [
        "train_dataset = train_df.values\n",
        "test_dataset = test_df.values\n",
        "\n",
        "train_data = train_dataset[:,1:9]\n",
        "train_target = train_dataset[:,9]\n",
        "\n",
        "test_data = test_dataset[:,1:9]"
      ]
    },
    {
      "cell_type": "code",
      "execution_count": null,
      "metadata": {
        "colab": {
          "base_uri": "https://localhost:8080/"
        },
        "id": "d2Nr4R234zmh",
        "outputId": "c93f206b-d6dd-4d9b-d00d-137e4e172fe6"
      },
      "outputs": [
        {
          "name": "stdout",
          "output_type": "stream",
          "text": [
            "[[  0.    71.     1.   ... 229.73  30.4    0.  ]\n",
            " [  0.    49.     1.   ... 139.43  40.2    1.  ]\n",
            " [  0.    42.     0.   ...  68.24  33.1    1.  ]\n",
            " ...\n",
            " [  2.    62.     1.   ... 103.69  35.2    3.  ]\n",
            " [  0.    33.     0.   ...  91.53  38.8    1.  ]\n",
            " [  2.    37.     0.   ...  98.12  27.5    0.  ]]\n",
            "----------------------\n",
            "[[  0.    81.     0.   ...  91.54  31.4    0.  ]\n",
            " [  1.    81.     1.   ... 181.23  36.7    0.  ]\n",
            " [  0.    57.     0.   ... 134.76  29.1    2.  ]\n",
            " ...\n",
            " [  0.    49.     0.   ... 130.07  26.     0.  ]\n",
            " [  1.    28.     0.   ...  69.5   24.5    0.  ]\n",
            " [  1.    59.     0.   ...  60.64  20.     0.  ]]\n",
            "----------------------\n",
            "[0. 0. 0. ... 0. 0. 0.]\n"
          ]
        }
      ],
      "source": [
        "print(train_data)\n",
        "print('----------------------')\n",
        "print(test_data)\n",
        "print('----------------------')\n",
        "print(train_target)"
      ]
    },
    {
      "cell_type": "markdown",
      "metadata": {
        "id": "62VhKlspEIyx"
      },
      "source": [
        "## Categorical Encoding"
      ]
    },
    {
      "cell_type": "code",
      "execution_count": null,
      "metadata": {
        "colab": {
          "base_uri": "https://localhost:8080/"
        },
        "id": "Y2f7GhgiELjw",
        "outputId": "eb551199-6af4-48b4-bb97-d674e04d322c"
      },
      "outputs": [
        {
          "name": "stdout",
          "output_type": "stream",
          "text": [
            "[[1. 0.]\n",
            " [1. 0.]\n",
            " [1. 0.]\n",
            " ...\n",
            " [1. 0.]\n",
            " [1. 0.]\n",
            " [1. 0.]]\n"
          ]
        }
      ],
      "source": [
        "from keras.utils import np_utils\n",
        "train_target=np_utils.to_categorical(train_target)\n",
        "print(train_target)"
      ]
    },
    {
      "cell_type": "markdown",
      "metadata": {
        "id": "AUZlL0CR5EYu"
      },
      "source": [
        "## Scaling"
      ]
    },
    {
      "cell_type": "code",
      "execution_count": null,
      "metadata": {
        "colab": {
          "base_uri": "https://localhost:8080/"
        },
        "id": "g-L2kaKr48cf",
        "outputId": "866bc520-40a2-4ee1-d5be-ef3485c349bf"
      },
      "outputs": [
        {
          "name": "stdout",
          "output_type": "stream",
          "text": [
            "[[0.         0.86572266 1.         ... 0.82106056 0.3946281  0.        ]\n",
            " [0.         0.59716797 1.         ... 0.39617936 0.59710744 0.33333333]\n",
            " [0.         0.51171875 0.         ... 0.06121489 0.45041322 0.33333333]\n",
            " ...\n",
            " [1.         0.75585938 1.         ... 0.22801487 0.49380165 1.        ]\n",
            " [0.         0.40185547 0.         ... 0.17079942 0.56818182 0.33333333]\n",
            " [1.         0.45068359 0.         ... 0.2018068  0.33471074 0.        ]]\n",
            "-----------------------------\n",
            "[[0.         0.98779297 0.         ... 0.17084647 0.41528926 0.        ]\n",
            " [0.5        0.98779297 1.         ... 0.59285748 0.52479339 0.        ]\n",
            " [0.         0.69482422 0.         ... 0.37420599 0.3677686  0.66666667]\n",
            " ...\n",
            " [0.         0.59716797 0.         ... 0.35213852 0.30371901 0.        ]\n",
            " [0.5        0.34082031 0.         ... 0.06714346 0.27272727 0.        ]\n",
            " [0.5        0.71923828 0.         ... 0.02545523 0.17975207 0.        ]]\n"
          ]
        }
      ],
      "source": [
        "from sklearn.preprocessing import MinMaxScaler\n",
        "\n",
        "\n",
        "scaler_data = MinMaxScaler()  \n",
        "scaler_data.fit(train_data)\n",
        "\n",
        "train_data_scaled=scaler_data.transform(train_data)\n",
        "test_data_scaled=scaler_data.transform(test_data)\n",
        "\n",
        "print(train_data_scaled)\n",
        "print('-----------------------------')\n",
        "print(test_data_scaled)"
      ]
    },
    {
      "cell_type": "markdown",
      "metadata": {
        "id": "kkQy2k1v8zA2"
      },
      "source": [
        "# model definition"
      ]
    },
    {
      "cell_type": "code",
      "execution_count": null,
      "metadata": {
        "colab": {
          "base_uri": "https://localhost:8080/"
        },
        "id": "25xelLfo80Bv",
        "outputId": "e5ebc3cd-1960-454f-a882-910eccbc5e44"
      },
      "outputs": [
        {
          "name": "stdout",
          "output_type": "stream",
          "text": [
            "Model: \"sequential_14\"\n",
            "_________________________________________________________________\n",
            " Layer (type)                Output Shape              Param #   \n",
            "=================================================================\n",
            " dense_56 (Dense)            (None, 128)               1152      \n",
            "                                                                 \n",
            " dropout_29 (Dropout)        (None, 128)               0         \n",
            "                                                                 \n",
            " dense_57 (Dense)            (None, 64)                8256      \n",
            "                                                                 \n",
            " dropout_30 (Dropout)        (None, 64)                0         \n",
            "                                                                 \n",
            " dense_58 (Dense)            (None, 10)                650       \n",
            "                                                                 \n",
            " dropout_31 (Dropout)        (None, 10)                0         \n",
            "                                                                 \n",
            " dense_59 (Dense)            (None, 2)                 22        \n",
            "                                                                 \n",
            "=================================================================\n",
            "Total params: 10,080\n",
            "Trainable params: 10,080\n",
            "Non-trainable params: 0\n",
            "_________________________________________________________________\n"
          ]
        }
      ],
      "source": [
        "from keras.models import Sequential\n",
        "from keras.layers import Dense,Dropout\n",
        "import numpy as np\n",
        "\n",
        "model = Sequential()\n",
        "model.add(Dense(128, input_dim=8, activation='relu'))\n",
        "model.add(Dropout(0.8))\n",
        "model.add(Dense(64, activation='relu'))\n",
        "model.add(Dropout(0.8))\n",
        "model.add(Dense(10, activation='relu'))\n",
        "model.add(Dropout(0.8))  #newly added\n",
        "model.add(Dense(2, activation='softmax'))\n",
        "\n",
        "model.compile(loss='binary_crossentropy',optimizer='adaGrad',metrics=['accuracy'])\n",
        "model.summary()\n"
      ]
    },
    {
      "cell_type": "markdown",
      "metadata": {
        "id": "78xudGtUnHf1"
      },
      "source": [
        "## model checkpoints"
      ]
    },
    {
      "cell_type": "code",
      "execution_count": null,
      "metadata": {
        "id": "3s2dTk33nG1n"
      },
      "outputs": [],
      "source": [
        "from keras.callbacks import ModelCheckpoint\n",
        "\n",
        "checkpoint = ModelCheckpoint('/content/drive/MyDrive/intellihack-master/models/model-{epoch:03d}.model',monitor='val_loss',save_best_only=True,mode='auto')"
      ]
    },
    {
      "cell_type": "markdown",
      "metadata": {
        "id": "HJwwDtYDAq4P"
      },
      "source": [
        "# model training"
      ]
    },
    {
      "cell_type": "code",
      "execution_count": null,
      "metadata": {
        "colab": {
          "background_save": true,
          "base_uri": "https://localhost:8080/"
        },
        "id": "xaLLeJmMAlJN",
        "outputId": "c7965f73-b542-4884-8288-7757796a34cb"
      },
      "outputs": [
        {
          "name": "stdout",
          "output_type": "stream",
          "text": [
            "Epoch 1/300\n",
            " 93/101 [==========================>...] - ETA: 0s - loss: 0.9453 - accuracy: 0.5212INFO:tensorflow:Assets written to: /content/drive/MyDrive/intellihack-master/models/model-001.model/assets\n",
            "101/101 [==============================] - 3s 27ms/step - loss: 0.9451 - accuracy: 0.5235 - val_loss: 0.6837 - val_accuracy: 0.9328\n",
            "Epoch 2/300\n",
            " 94/101 [==========================>...] - ETA: 0s - loss: 0.8860 - accuracy: 0.5688INFO:tensorflow:Assets written to: /content/drive/MyDrive/intellihack-master/models/model-002.model/assets\n",
            "101/101 [==============================] - 6s 61ms/step - loss: 0.8842 - accuracy: 0.5700 - val_loss: 0.6768 - val_accuracy: 0.9524\n",
            "Epoch 3/300\n",
            " 94/101 [==========================>...] - ETA: 0s - loss: 0.8379 - accuracy: 0.6077INFO:tensorflow:Assets written to: /content/drive/MyDrive/intellihack-master/models/model-003.model/assets\n",
            "101/101 [==============================] - 3s 34ms/step - loss: 0.8377 - accuracy: 0.6064 - val_loss: 0.6730 - val_accuracy: 0.9552\n",
            "Epoch 4/300\n",
            "100/101 [============================>.] - ETA: 0s - loss: 0.8152 - accuracy: 0.6509INFO:tensorflow:Assets written to: /content/drive/MyDrive/intellihack-master/models/model-004.model/assets\n",
            "101/101 [==============================] - 2s 24ms/step - loss: 0.8155 - accuracy: 0.6510 - val_loss: 0.6698 - val_accuracy: 0.9552\n",
            "Epoch 5/300\n",
            "100/101 [============================>.] - ETA: 0s - loss: 0.7858 - accuracy: 0.6831INFO:tensorflow:Assets written to: /content/drive/MyDrive/intellihack-master/models/model-005.model/assets\n",
            "101/101 [==============================] - 3s 35ms/step - loss: 0.7861 - accuracy: 0.6821 - val_loss: 0.6671 - val_accuracy: 0.9552\n",
            "Epoch 6/300\n",
            " 96/101 [===========================>..] - ETA: 0s - loss: 0.7839 - accuracy: 0.6748INFO:tensorflow:Assets written to: /content/drive/MyDrive/intellihack-master/models/model-006.model/assets\n",
            "101/101 [==============================] - 2s 24ms/step - loss: 0.7835 - accuracy: 0.6762 - val_loss: 0.6648 - val_accuracy: 0.9552\n",
            "Epoch 7/300\n",
            " 96/101 [===========================>..] - ETA: 0s - loss: 0.7713 - accuracy: 0.7204INFO:tensorflow:Assets written to: /content/drive/MyDrive/intellihack-master/models/model-007.model/assets\n",
            "101/101 [==============================] - 3s 27ms/step - loss: 0.7694 - accuracy: 0.7230 - val_loss: 0.6628 - val_accuracy: 0.9552\n",
            "Epoch 8/300\n",
            " 90/101 [=========================>....] - ETA: 0s - loss: 0.7606 - accuracy: 0.7260INFO:tensorflow:Assets written to: /content/drive/MyDrive/intellihack-master/models/model-008.model/assets\n",
            "101/101 [==============================] - 2s 25ms/step - loss: 0.7551 - accuracy: 0.7298 - val_loss: 0.6610 - val_accuracy: 0.9552\n",
            "Epoch 9/300\n",
            " 93/101 [==========================>...] - ETA: 0s - loss: 0.7524 - accuracy: 0.7366INFO:tensorflow:Assets written to: /content/drive/MyDrive/intellihack-master/models/model-009.model/assets\n",
            "101/101 [==============================] - 3s 28ms/step - loss: 0.7519 - accuracy: 0.7395 - val_loss: 0.6594 - val_accuracy: 0.9552\n",
            "Epoch 10/300\n",
            " 80/101 [======================>.......] - ETA: 0s - loss: 0.7497 - accuracy: 0.7227INFO:tensorflow:Assets written to: /content/drive/MyDrive/intellihack-master/models/model-010.model/assets\n",
            "101/101 [==============================] - 3s 25ms/step - loss: 0.7442 - accuracy: 0.7264 - val_loss: 0.6577 - val_accuracy: 0.9552\n",
            "Epoch 11/300\n",
            " 85/101 [========================>.....] - ETA: 0s - loss: 0.7356 - accuracy: 0.7471INFO:tensorflow:Assets written to: /content/drive/MyDrive/intellihack-master/models/model-011.model/assets\n",
            "101/101 [==============================] - 4s 37ms/step - loss: 0.7340 - accuracy: 0.7491 - val_loss: 0.6562 - val_accuracy: 0.9552\n",
            "Epoch 12/300\n",
            " 88/101 [=========================>....] - ETA: 0s - loss: 0.7230 - accuracy: 0.7607INFO:tensorflow:Assets written to: /content/drive/MyDrive/intellihack-master/models/model-012.model/assets\n",
            "101/101 [==============================] - 2s 25ms/step - loss: 0.7219 - accuracy: 0.7632 - val_loss: 0.6547 - val_accuracy: 0.9552\n",
            "Epoch 13/300\n",
            " 83/101 [=======================>......] - ETA: 0s - loss: 0.7223 - accuracy: 0.7779INFO:tensorflow:Assets written to: /content/drive/MyDrive/intellihack-master/models/model-013.model/assets\n",
            "101/101 [==============================] - 3s 26ms/step - loss: 0.7197 - accuracy: 0.7840 - val_loss: 0.6534 - val_accuracy: 0.9552\n",
            "Epoch 14/300\n",
            " 99/101 [============================>.] - ETA: 0s - loss: 0.7166 - accuracy: 0.7847INFO:tensorflow:Assets written to: /content/drive/MyDrive/intellihack-master/models/model-014.model/assets\n",
            "101/101 [==============================] - 2s 23ms/step - loss: 0.7164 - accuracy: 0.7853 - val_loss: 0.6520 - val_accuracy: 0.9552\n",
            "Epoch 15/300\n",
            "100/101 [============================>.] - ETA: 0s - loss: 0.7120 - accuracy: 0.7791INFO:tensorflow:Assets written to: /content/drive/MyDrive/intellihack-master/models/model-015.model/assets\n",
            "101/101 [==============================] - 2s 23ms/step - loss: 0.7124 - accuracy: 0.7791 - val_loss: 0.6507 - val_accuracy: 0.9552\n",
            "Epoch 16/300\n",
            " 84/101 [=======================>......] - ETA: 0s - loss: 0.7048 - accuracy: 0.7861INFO:tensorflow:Assets written to: /content/drive/MyDrive/intellihack-master/models/model-016.model/assets\n",
            "101/101 [==============================] - 2s 25ms/step - loss: 0.7058 - accuracy: 0.7853 - val_loss: 0.6495 - val_accuracy: 0.9552\n",
            "Epoch 17/300\n",
            "100/101 [============================>.] - ETA: 0s - loss: 0.6984 - accuracy: 0.8025INFO:tensorflow:Assets written to: /content/drive/MyDrive/intellihack-master/models/model-017.model/assets\n",
            "101/101 [==============================] - 2s 23ms/step - loss: 0.6985 - accuracy: 0.8024 - val_loss: 0.6481 - val_accuracy: 0.9552\n",
            "Epoch 18/300\n",
            " 87/101 [========================>.....] - ETA: 0s - loss: 0.7015 - accuracy: 0.8032INFO:tensorflow:Assets written to: /content/drive/MyDrive/intellihack-master/models/model-018.model/assets\n",
            "101/101 [==============================] - 2s 22ms/step - loss: 0.7009 - accuracy: 0.8034 - val_loss: 0.6468 - val_accuracy: 0.9552\n",
            "Epoch 19/300\n",
            "100/101 [============================>.] - ETA: 0s - loss: 0.6975 - accuracy: 0.8016INFO:tensorflow:Assets written to: /content/drive/MyDrive/intellihack-master/models/model-019.model/assets\n",
            "101/101 [==============================] - 4s 39ms/step - loss: 0.6974 - accuracy: 0.8018 - val_loss: 0.6456 - val_accuracy: 0.9552\n",
            "Epoch 20/300\n",
            " 90/101 [=========================>....] - ETA: 0s - loss: 0.6923 - accuracy: 0.8139INFO:tensorflow:Assets written to: /content/drive/MyDrive/intellihack-master/models/model-020.model/assets\n",
            "101/101 [==============================] - 3s 35ms/step - loss: 0.6917 - accuracy: 0.8158 - val_loss: 0.6443 - val_accuracy: 0.9552\n",
            "Epoch 21/300\n",
            " 95/101 [===========================>..] - ETA: 0s - loss: 0.6884 - accuracy: 0.8240INFO:tensorflow:Assets written to: /content/drive/MyDrive/intellihack-master/models/model-021.model/assets\n",
            "101/101 [==============================] - 3s 30ms/step - loss: 0.6875 - accuracy: 0.8270 - val_loss: 0.6431 - val_accuracy: 0.9552\n",
            "Epoch 22/300\n",
            " 97/101 [===========================>..] - ETA: 0s - loss: 0.6857 - accuracy: 0.8189INFO:tensorflow:Assets written to: /content/drive/MyDrive/intellihack-master/models/model-022.model/assets\n",
            "101/101 [==============================] - 4s 37ms/step - loss: 0.6859 - accuracy: 0.8186 - val_loss: 0.6419 - val_accuracy: 0.9552\n",
            "Epoch 23/300\n",
            " 99/101 [============================>.] - ETA: 0s - loss: 0.6852 - accuracy: 0.8201INFO:tensorflow:Assets written to: /content/drive/MyDrive/intellihack-master/models/model-023.model/assets\n",
            "101/101 [==============================] - 3s 27ms/step - loss: 0.6851 - accuracy: 0.8193 - val_loss: 0.6407 - val_accuracy: 0.9552\n",
            "Epoch 24/300\n",
            " 83/101 [=======================>......] - ETA: 0s - loss: 0.6796 - accuracy: 0.8264INFO:tensorflow:Assets written to: /content/drive/MyDrive/intellihack-master/models/model-024.model/assets\n",
            "101/101 [==============================] - 3s 27ms/step - loss: 0.6779 - accuracy: 0.8314 - val_loss: 0.6395 - val_accuracy: 0.9552\n",
            "Epoch 25/300\n",
            " 94/101 [==========================>...] - ETA: 0s - loss: 0.6735 - accuracy: 0.8388INFO:tensorflow:Assets written to: /content/drive/MyDrive/intellihack-master/models/model-025.model/assets\n",
            "101/101 [==============================] - 3s 26ms/step - loss: 0.6746 - accuracy: 0.8389 - val_loss: 0.6383 - val_accuracy: 0.9552\n",
            "Epoch 26/300\n",
            " 93/101 [==========================>...] - ETA: 0s - loss: 0.6778 - accuracy: 0.8451INFO:tensorflow:Assets written to: /content/drive/MyDrive/intellihack-master/models/model-026.model/assets\n",
            "101/101 [==============================] - 3s 27ms/step - loss: 0.6768 - accuracy: 0.8489 - val_loss: 0.6372 - val_accuracy: 0.9552\n",
            "Epoch 27/300\n",
            "100/101 [============================>.] - ETA: 0s - loss: 0.6697 - accuracy: 0.8466INFO:tensorflow:Assets written to: /content/drive/MyDrive/intellihack-master/models/model-027.model/assets\n",
            "101/101 [==============================] - 4s 38ms/step - loss: 0.6696 - accuracy: 0.8470 - val_loss: 0.6360 - val_accuracy: 0.9552\n",
            "Epoch 28/300\n",
            " 93/101 [==========================>...] - ETA: 0s - loss: 0.6725 - accuracy: 0.8394INFO:tensorflow:Assets written to: /content/drive/MyDrive/intellihack-master/models/model-028.model/assets\n",
            "101/101 [==============================] - 4s 35ms/step - loss: 0.6725 - accuracy: 0.8401 - val_loss: 0.6347 - val_accuracy: 0.9552\n",
            "Epoch 29/300\n",
            " 95/101 [===========================>..] - ETA: 0s - loss: 0.6699 - accuracy: 0.8500INFO:tensorflow:Assets written to: /content/drive/MyDrive/intellihack-master/models/model-029.model/assets\n",
            "101/101 [==============================] - 3s 27ms/step - loss: 0.6703 - accuracy: 0.8489 - val_loss: 0.6336 - val_accuracy: 0.9552\n",
            "Epoch 30/300\n",
            " 95/101 [===========================>..] - ETA: 0s - loss: 0.6612 - accuracy: 0.8543INFO:tensorflow:Assets written to: /content/drive/MyDrive/intellihack-master/models/model-030.model/assets\n",
            "101/101 [==============================] - 4s 36ms/step - loss: 0.6618 - accuracy: 0.8529 - val_loss: 0.6323 - val_accuracy: 0.9552\n",
            "Epoch 31/300\n",
            " 99/101 [============================>.] - ETA: 0s - loss: 0.6587 - accuracy: 0.8595INFO:tensorflow:Assets written to: /content/drive/MyDrive/intellihack-master/models/model-031.model/assets\n",
            "101/101 [==============================] - 4s 36ms/step - loss: 0.6590 - accuracy: 0.8585 - val_loss: 0.6311 - val_accuracy: 0.9552\n",
            "Epoch 32/300\n",
            " 91/101 [==========================>...] - ETA: 0s - loss: 0.6628 - accuracy: 0.8520INFO:tensorflow:Assets written to: /content/drive/MyDrive/intellihack-master/models/model-032.model/assets\n",
            "101/101 [==============================] - 3s 27ms/step - loss: 0.6620 - accuracy: 0.8545 - val_loss: 0.6300 - val_accuracy: 0.9552\n",
            "Epoch 33/300\n",
            " 96/101 [===========================>..] - ETA: 0s - loss: 0.6595 - accuracy: 0.8597INFO:tensorflow:Assets written to: /content/drive/MyDrive/intellihack-master/models/model-033.model/assets\n",
            "101/101 [==============================] - 4s 36ms/step - loss: 0.6590 - accuracy: 0.8601 - val_loss: 0.6288 - val_accuracy: 0.9552\n",
            "Epoch 34/300\n",
            " 98/101 [============================>.] - ETA: 0s - loss: 0.6597 - accuracy: 0.8696INFO:tensorflow:Assets written to: /content/drive/MyDrive/intellihack-master/models/model-034.model/assets\n",
            "101/101 [==============================] - 3s 27ms/step - loss: 0.6600 - accuracy: 0.8676 - val_loss: 0.6276 - val_accuracy: 0.9552\n",
            "Epoch 35/300\n",
            " 85/101 [========================>.....] - ETA: 0s - loss: 0.6559 - accuracy: 0.8581INFO:tensorflow:Assets written to: /content/drive/MyDrive/intellihack-master/models/model-035.model/assets\n",
            "101/101 [==============================] - 4s 38ms/step - loss: 0.6549 - accuracy: 0.8591 - val_loss: 0.6264 - val_accuracy: 0.9552\n",
            "Epoch 36/300\n",
            " 89/101 [=========================>....] - ETA: 0s - loss: 0.6522 - accuracy: 0.8736INFO:tensorflow:Assets written to: /content/drive/MyDrive/intellihack-master/models/model-036.model/assets\n",
            "101/101 [==============================] - 3s 27ms/step - loss: 0.6523 - accuracy: 0.8719 - val_loss: 0.6252 - val_accuracy: 0.9552\n",
            "Epoch 37/300\n",
            " 93/101 [==========================>...] - ETA: 0s - loss: 0.6491 - accuracy: 0.8686INFO:tensorflow:Assets written to: /content/drive/MyDrive/intellihack-master/models/model-037.model/assets\n",
            "101/101 [==============================] - 4s 37ms/step - loss: 0.6493 - accuracy: 0.8672 - val_loss: 0.6241 - val_accuracy: 0.9552\n",
            "Epoch 38/300\n",
            " 98/101 [============================>.] - ETA: 0s - loss: 0.6490 - accuracy: 0.8766INFO:tensorflow:Assets written to: /content/drive/MyDrive/intellihack-master/models/model-038.model/assets\n",
            "101/101 [==============================] - 3s 27ms/step - loss: 0.6492 - accuracy: 0.8778 - val_loss: 0.6229 - val_accuracy: 0.9552\n",
            "Epoch 39/300\n",
            " 89/101 [=========================>....] - ETA: 0s - loss: 0.6497 - accuracy: 0.8739INFO:tensorflow:Assets written to: /content/drive/MyDrive/intellihack-master/models/model-039.model/assets\n",
            "101/101 [==============================] - 3s 27ms/step - loss: 0.6499 - accuracy: 0.8744 - val_loss: 0.6217 - val_accuracy: 0.9552\n",
            "Epoch 40/300\n",
            " 96/101 [===========================>..] - ETA: 0s - loss: 0.6474 - accuracy: 0.8757INFO:tensorflow:Assets written to: /content/drive/MyDrive/intellihack-master/models/model-040.model/assets\n",
            "101/101 [==============================] - 4s 36ms/step - loss: 0.6472 - accuracy: 0.8766 - val_loss: 0.6206 - val_accuracy: 0.9552\n",
            "Epoch 41/300\n",
            " 98/101 [============================>.] - ETA: 0s - loss: 0.6429 - accuracy: 0.8766INFO:tensorflow:Assets written to: /content/drive/MyDrive/intellihack-master/models/model-041.model/assets\n",
            "101/101 [==============================] - 3s 26ms/step - loss: 0.6429 - accuracy: 0.8769 - val_loss: 0.6193 - val_accuracy: 0.9552\n",
            "Epoch 42/300\n",
            " 84/101 [=======================>......] - ETA: 0s - loss: 0.6471 - accuracy: 0.8783INFO:tensorflow:Assets written to: /content/drive/MyDrive/intellihack-master/models/model-042.model/assets\n",
            "101/101 [==============================] - 3s 27ms/step - loss: 0.6456 - accuracy: 0.8803 - val_loss: 0.6182 - val_accuracy: 0.9552\n",
            "Epoch 43/300\n",
            " 95/101 [===========================>..] - ETA: 0s - loss: 0.6400 - accuracy: 0.8908INFO:tensorflow:Assets written to: /content/drive/MyDrive/intellihack-master/models/model-043.model/assets\n",
            "101/101 [==============================] - 4s 37ms/step - loss: 0.6393 - accuracy: 0.8912 - val_loss: 0.6171 - val_accuracy: 0.9552\n",
            "Epoch 44/300\n",
            " 87/101 [========================>.....] - ETA: 0s - loss: 0.6361 - accuracy: 0.8933INFO:tensorflow:Assets written to: /content/drive/MyDrive/intellihack-master/models/model-044.model/assets\n",
            "101/101 [==============================] - 3s 26ms/step - loss: 0.6359 - accuracy: 0.8928 - val_loss: 0.6158 - val_accuracy: 0.9552\n",
            "Epoch 45/300\n",
            " 95/101 [===========================>..] - ETA: 0s - loss: 0.6379 - accuracy: 0.8878INFO:tensorflow:Assets written to: /content/drive/MyDrive/intellihack-master/models/model-045.model/assets\n",
            "101/101 [==============================] - 3s 26ms/step - loss: 0.6378 - accuracy: 0.8888 - val_loss: 0.6147 - val_accuracy: 0.9552\n",
            "Epoch 46/300\n",
            " 83/101 [=======================>......] - ETA: 0s - loss: 0.6333 - accuracy: 0.9051INFO:tensorflow:Assets written to: /content/drive/MyDrive/intellihack-master/models/model-046.model/assets\n",
            "101/101 [==============================] - 4s 36ms/step - loss: 0.6331 - accuracy: 0.9034 - val_loss: 0.6135 - val_accuracy: 0.9552\n",
            "Epoch 47/300\n",
            " 90/101 [=========================>....] - ETA: 0s - loss: 0.6360 - accuracy: 0.8962INFO:tensorflow:Assets written to: /content/drive/MyDrive/intellihack-master/models/model-047.model/assets\n",
            "101/101 [==============================] - 3s 27ms/step - loss: 0.6359 - accuracy: 0.8975 - val_loss: 0.6124 - val_accuracy: 0.9552\n",
            "Epoch 48/300\n",
            " 94/101 [==========================>...] - ETA: 0s - loss: 0.6311 - accuracy: 0.8993INFO:tensorflow:Assets written to: /content/drive/MyDrive/intellihack-master/models/model-048.model/assets\n",
            "101/101 [==============================] - 3s 27ms/step - loss: 0.6311 - accuracy: 0.9000 - val_loss: 0.6111 - val_accuracy: 0.9552\n",
            "Epoch 49/300\n",
            " 84/101 [=======================>......] - ETA: 0s - loss: 0.6321 - accuracy: 0.8973INFO:tensorflow:Assets written to: /content/drive/MyDrive/intellihack-master/models/model-049.model/assets\n",
            "101/101 [==============================] - 4s 36ms/step - loss: 0.6320 - accuracy: 0.8987 - val_loss: 0.6100 - val_accuracy: 0.9552\n",
            "Epoch 50/300\n",
            " 97/101 [===========================>..] - ETA: 0s - loss: 0.6279 - accuracy: 0.9027INFO:tensorflow:Assets written to: /content/drive/MyDrive/intellihack-master/models/model-050.model/assets\n",
            "101/101 [==============================] - 3s 27ms/step - loss: 0.6273 - accuracy: 0.9037 - val_loss: 0.6088 - val_accuracy: 0.9552\n",
            "Epoch 51/300\n",
            " 99/101 [============================>.] - ETA: 0s - loss: 0.6288 - accuracy: 0.8977INFO:tensorflow:Assets written to: /content/drive/MyDrive/intellihack-master/models/model-051.model/assets\n",
            "101/101 [==============================] - 4s 37ms/step - loss: 0.6287 - accuracy: 0.8984 - val_loss: 0.6075 - val_accuracy: 0.9552\n",
            "Epoch 52/300\n",
            "100/101 [============================>.] - ETA: 0s - loss: 0.6287 - accuracy: 0.9000INFO:tensorflow:Assets written to: /content/drive/MyDrive/intellihack-master/models/model-052.model/assets\n",
            "101/101 [==============================] - 3s 27ms/step - loss: 0.6287 - accuracy: 0.9003 - val_loss: 0.6064 - val_accuracy: 0.9552\n",
            "Epoch 53/300\n",
            " 82/101 [=======================>......] - ETA: 0s - loss: 0.6300 - accuracy: 0.8944INFO:tensorflow:Assets written to: /content/drive/MyDrive/intellihack-master/models/model-053.model/assets\n",
            "101/101 [==============================] - 4s 37ms/step - loss: 0.6292 - accuracy: 0.8965 - val_loss: 0.6053 - val_accuracy: 0.9552\n",
            "Epoch 54/300\n",
            "100/101 [============================>.] - ETA: 0s - loss: 0.6287 - accuracy: 0.9003INFO:tensorflow:Assets written to: /content/drive/MyDrive/intellihack-master/models/model-054.model/assets\n",
            "101/101 [==============================] - 4s 36ms/step - loss: 0.6288 - accuracy: 0.9000 - val_loss: 0.6041 - val_accuracy: 0.9552\n",
            "Epoch 55/300\n",
            " 97/101 [===========================>..] - ETA: 0s - loss: 0.6252 - accuracy: 0.9011INFO:tensorflow:Assets written to: /content/drive/MyDrive/intellihack-master/models/model-055.model/assets\n",
            "101/101 [==============================] - 3s 27ms/step - loss: 0.6250 - accuracy: 0.9003 - val_loss: 0.6029 - val_accuracy: 0.9552\n",
            "Epoch 56/300\n",
            " 99/101 [============================>.] - ETA: 0s - loss: 0.6218 - accuracy: 0.9075INFO:tensorflow:Assets written to: /content/drive/MyDrive/intellihack-master/models/model-056.model/assets\n",
            "101/101 [==============================] - 4s 37ms/step - loss: 0.6218 - accuracy: 0.9078 - val_loss: 0.6018 - val_accuracy: 0.9552\n",
            "Epoch 57/300\n",
            " 97/101 [===========================>..] - ETA: 0s - loss: 0.6193 - accuracy: 0.9133INFO:tensorflow:Assets written to: /content/drive/MyDrive/intellihack-master/models/model-057.model/assets\n",
            "101/101 [==============================] - 3s 27ms/step - loss: 0.6190 - accuracy: 0.9137 - val_loss: 0.6006 - val_accuracy: 0.9552\n",
            "Epoch 58/300\n",
            " 89/101 [=========================>....] - ETA: 0s - loss: 0.6181 - accuracy: 0.9094INFO:tensorflow:Assets written to: /content/drive/MyDrive/intellihack-master/models/model-058.model/assets\n",
            "101/101 [==============================] - 3s 29ms/step - loss: 0.6176 - accuracy: 0.9096 - val_loss: 0.5994 - val_accuracy: 0.9552\n",
            "Epoch 59/300\n",
            " 87/101 [========================>.....] - ETA: 0s - loss: 0.6168 - accuracy: 0.9041INFO:tensorflow:Assets written to: /content/drive/MyDrive/intellihack-master/models/model-059.model/assets\n",
            "101/101 [==============================] - 4s 35ms/step - loss: 0.6166 - accuracy: 0.9053 - val_loss: 0.5982 - val_accuracy: 0.9552\n",
            "Epoch 60/300\n",
            " 89/101 [=========================>....] - ETA: 0s - loss: 0.6186 - accuracy: 0.9024INFO:tensorflow:Assets written to: /content/drive/MyDrive/intellihack-master/models/model-060.model/assets\n",
            "101/101 [==============================] - 5s 46ms/step - loss: 0.6175 - accuracy: 0.9065 - val_loss: 0.5971 - val_accuracy: 0.9552\n",
            "Epoch 61/300\n",
            " 98/101 [============================>.] - ETA: 0s - loss: 0.6187 - accuracy: 0.9066INFO:tensorflow:Assets written to: /content/drive/MyDrive/intellihack-master/models/model-061.model/assets\n",
            "101/101 [==============================] - 3s 26ms/step - loss: 0.6185 - accuracy: 0.9074 - val_loss: 0.5959 - val_accuracy: 0.9552\n",
            "Epoch 62/300\n",
            " 88/101 [=========================>....] - ETA: 0s - loss: 0.6151 - accuracy: 0.9116INFO:tensorflow:Assets written to: /content/drive/MyDrive/intellihack-master/models/model-062.model/assets\n",
            "101/101 [==============================] - 3s 27ms/step - loss: 0.6149 - accuracy: 0.9109 - val_loss: 0.5947 - val_accuracy: 0.9552\n",
            "Epoch 63/300\n",
            " 89/101 [=========================>....] - ETA: 0s - loss: 0.6165 - accuracy: 0.9122INFO:tensorflow:Assets written to: /content/drive/MyDrive/intellihack-master/models/model-063.model/assets\n",
            "101/101 [==============================] - 3s 26ms/step - loss: 0.6149 - accuracy: 0.9131 - val_loss: 0.5935 - val_accuracy: 0.9552\n",
            "Epoch 64/300\n",
            " 85/101 [========================>.....] - ETA: 0s - loss: 0.6139 - accuracy: 0.9136INFO:tensorflow:Assets written to: /content/drive/MyDrive/intellihack-master/models/model-064.model/assets\n",
            "101/101 [==============================] - 3s 27ms/step - loss: 0.6132 - accuracy: 0.9149 - val_loss: 0.5923 - val_accuracy: 0.9552\n",
            "Epoch 65/300\n",
            " 95/101 [===========================>..] - ETA: 0s - loss: 0.6130 - accuracy: 0.9089INFO:tensorflow:Assets written to: /content/drive/MyDrive/intellihack-master/models/model-065.model/assets\n",
            "101/101 [==============================] - 3s 27ms/step - loss: 0.6125 - accuracy: 0.9118 - val_loss: 0.5912 - val_accuracy: 0.9552\n",
            "Epoch 66/300\n",
            " 84/101 [=======================>......] - ETA: 0s - loss: 0.6056 - accuracy: 0.9230INFO:tensorflow:Assets written to: /content/drive/MyDrive/intellihack-master/models/model-066.model/assets\n",
            "101/101 [==============================] - 3s 26ms/step - loss: 0.6077 - accuracy: 0.9184 - val_loss: 0.5899 - val_accuracy: 0.9552\n",
            "Epoch 67/300\n",
            " 86/101 [========================>.....] - ETA: 0s - loss: 0.6132 - accuracy: 0.9135INFO:tensorflow:Assets written to: /content/drive/MyDrive/intellihack-master/models/model-067.model/assets\n",
            "101/101 [==============================] - 5s 55ms/step - loss: 0.6130 - accuracy: 0.9137 - val_loss: 0.5888 - val_accuracy: 0.9552\n",
            "Epoch 68/300\n",
            " 91/101 [==========================>...] - ETA: 0s - loss: 0.6088 - accuracy: 0.9138INFO:tensorflow:Assets written to: /content/drive/MyDrive/intellihack-master/models/model-068.model/assets\n",
            "101/101 [==============================] - 4s 36ms/step - loss: 0.6077 - accuracy: 0.9134 - val_loss: 0.5876 - val_accuracy: 0.9552\n",
            "Epoch 69/300\n",
            " 86/101 [========================>.....] - ETA: 0s - loss: 0.6068 - accuracy: 0.9186INFO:tensorflow:Assets written to: /content/drive/MyDrive/intellihack-master/models/model-069.model/assets\n",
            "101/101 [==============================] - 3s 26ms/step - loss: 0.6060 - accuracy: 0.9208 - val_loss: 0.5865 - val_accuracy: 0.9552\n",
            "Epoch 70/300\n",
            " 89/101 [=========================>....] - ETA: 0s - loss: 0.6062 - accuracy: 0.9192INFO:tensorflow:Assets written to: /content/drive/MyDrive/intellihack-master/models/model-070.model/assets\n",
            "101/101 [==============================] - 3s 27ms/step - loss: 0.6073 - accuracy: 0.9180 - val_loss: 0.5853 - val_accuracy: 0.9552\n",
            "Epoch 71/300\n",
            " 84/101 [=======================>......] - ETA: 0s - loss: 0.6062 - accuracy: 0.9182INFO:tensorflow:Assets written to: /content/drive/MyDrive/intellihack-master/models/model-071.model/assets\n",
            "101/101 [==============================] - 3s 27ms/step - loss: 0.6064 - accuracy: 0.9165 - val_loss: 0.5841 - val_accuracy: 0.9552\n",
            "Epoch 72/300\n",
            " 95/101 [===========================>..] - ETA: 0s - loss: 0.5999 - accuracy: 0.9171INFO:tensorflow:Assets written to: /content/drive/MyDrive/intellihack-master/models/model-072.model/assets\n",
            "101/101 [==============================] - 3s 27ms/step - loss: 0.6000 - accuracy: 0.9168 - val_loss: 0.5829 - val_accuracy: 0.9552\n",
            "Epoch 73/300\n",
            " 93/101 [==========================>...] - ETA: 0s - loss: 0.5994 - accuracy: 0.9180INFO:tensorflow:Assets written to: /content/drive/MyDrive/intellihack-master/models/model-073.model/assets\n",
            "101/101 [==============================] - 3s 27ms/step - loss: 0.6000 - accuracy: 0.9174 - val_loss: 0.5817 - val_accuracy: 0.9552\n",
            "Epoch 74/300\n",
            " 86/101 [========================>.....] - ETA: 0s - loss: 0.5999 - accuracy: 0.9175INFO:tensorflow:Assets written to: /content/drive/MyDrive/intellihack-master/models/model-074.model/assets\n",
            "101/101 [==============================] - 4s 36ms/step - loss: 0.6010 - accuracy: 0.9165 - val_loss: 0.5804 - val_accuracy: 0.9552\n",
            "Epoch 75/300\n",
            " 99/101 [============================>.] - ETA: 0s - loss: 0.5971 - accuracy: 0.9246INFO:tensorflow:Assets written to: /content/drive/MyDrive/intellihack-master/models/model-075.model/assets\n",
            "101/101 [==============================] - 3s 28ms/step - loss: 0.5972 - accuracy: 0.9243 - val_loss: 0.5791 - val_accuracy: 0.9552\n",
            "Epoch 76/300\n",
            " 93/101 [==========================>...] - ETA: 0s - loss: 0.5987 - accuracy: 0.9251INFO:tensorflow:Assets written to: /content/drive/MyDrive/intellihack-master/models/model-076.model/assets\n",
            "101/101 [==============================] - 4s 39ms/step - loss: 0.5987 - accuracy: 0.9249 - val_loss: 0.5780 - val_accuracy: 0.9552\n",
            "Epoch 77/300\n",
            " 93/101 [==========================>...] - ETA: 0s - loss: 0.5984 - accuracy: 0.9150INFO:tensorflow:Assets written to: /content/drive/MyDrive/intellihack-master/models/model-077.model/assets\n",
            "101/101 [==============================] - 3s 27ms/step - loss: 0.5982 - accuracy: 0.9159 - val_loss: 0.5768 - val_accuracy: 0.9552\n",
            "Epoch 78/300\n",
            " 87/101 [========================>.....] - ETA: 0s - loss: 0.5932 - accuracy: 0.9217INFO:tensorflow:Assets written to: /content/drive/MyDrive/intellihack-master/models/model-078.model/assets\n",
            "101/101 [==============================] - 3s 26ms/step - loss: 0.5928 - accuracy: 0.9227 - val_loss: 0.5755 - val_accuracy: 0.9552\n",
            "Epoch 79/300\n",
            " 86/101 [========================>.....] - ETA: 0s - loss: 0.5922 - accuracy: 0.9251INFO:tensorflow:Assets written to: /content/drive/MyDrive/intellihack-master/models/model-079.model/assets\n",
            "101/101 [==============================] - 3s 27ms/step - loss: 0.5925 - accuracy: 0.9237 - val_loss: 0.5742 - val_accuracy: 0.9552\n",
            "Epoch 80/300\n",
            " 93/101 [==========================>...] - ETA: 0s - loss: 0.5937 - accuracy: 0.9224INFO:tensorflow:Assets written to: /content/drive/MyDrive/intellihack-master/models/model-080.model/assets\n",
            "101/101 [==============================] - 3s 27ms/step - loss: 0.5932 - accuracy: 0.9237 - val_loss: 0.5729 - val_accuracy: 0.9552\n",
            "Epoch 81/300\n",
            " 86/101 [========================>.....] - ETA: 0s - loss: 0.5931 - accuracy: 0.9208INFO:tensorflow:Assets written to: /content/drive/MyDrive/intellihack-master/models/model-081.model/assets\n",
            "101/101 [==============================] - 3s 27ms/step - loss: 0.5947 - accuracy: 0.9184 - val_loss: 0.5717 - val_accuracy: 0.9552\n",
            "Epoch 82/300\n",
            " 99/101 [============================>.] - ETA: 0s - loss: 0.5902 - accuracy: 0.9268INFO:tensorflow:Assets written to: /content/drive/MyDrive/intellihack-master/models/model-082.model/assets\n",
            "101/101 [==============================] - 3s 27ms/step - loss: 0.5901 - accuracy: 0.9268 - val_loss: 0.5705 - val_accuracy: 0.9552\n",
            "Epoch 83/300\n",
            "101/101 [==============================] - ETA: 0s - loss: 0.5875 - accuracy: 0.9277INFO:tensorflow:Assets written to: /content/drive/MyDrive/intellihack-master/models/model-083.model/assets\n",
            "101/101 [==============================] - 4s 37ms/step - loss: 0.5875 - accuracy: 0.9277 - val_loss: 0.5692 - val_accuracy: 0.9552\n",
            "Epoch 84/300\n",
            "101/101 [==============================] - ETA: 0s - loss: 0.5905 - accuracy: 0.9243INFO:tensorflow:Assets written to: /content/drive/MyDrive/intellihack-master/models/model-084.model/assets\n",
            "101/101 [==============================] - 4s 36ms/step - loss: 0.5905 - accuracy: 0.9243 - val_loss: 0.5679 - val_accuracy: 0.9552\n",
            "Epoch 85/300\n",
            " 93/101 [==========================>...] - ETA: 0s - loss: 0.5858 - accuracy: 0.9271INFO:tensorflow:Assets written to: /content/drive/MyDrive/intellihack-master/models/model-085.model/assets\n",
            "101/101 [==============================] - 3s 27ms/step - loss: 0.5855 - accuracy: 0.9268 - val_loss: 0.5666 - val_accuracy: 0.9552\n",
            "Epoch 86/300\n",
            " 91/101 [==========================>...] - ETA: 0s - loss: 0.5854 - accuracy: 0.9265INFO:tensorflow:Assets written to: /content/drive/MyDrive/intellihack-master/models/model-086.model/assets\n",
            "101/101 [==============================] - 3s 26ms/step - loss: 0.5844 - accuracy: 0.9274 - val_loss: 0.5654 - val_accuracy: 0.9552\n",
            "Epoch 87/300\n",
            " 95/101 [===========================>..] - ETA: 0s - loss: 0.5851 - accuracy: 0.9253INFO:tensorflow:Assets written to: /content/drive/MyDrive/intellihack-master/models/model-087.model/assets\n",
            "101/101 [==============================] - 3s 27ms/step - loss: 0.5848 - accuracy: 0.9268 - val_loss: 0.5642 - val_accuracy: 0.9552\n",
            "Epoch 88/300\n",
            " 92/101 [==========================>...] - ETA: 0s - loss: 0.5856 - accuracy: 0.9226INFO:tensorflow:Assets written to: /content/drive/MyDrive/intellihack-master/models/model-088.model/assets\n",
            "101/101 [==============================] - 5s 49ms/step - loss: 0.5850 - accuracy: 0.9240 - val_loss: 0.5629 - val_accuracy: 0.9552\n",
            "Epoch 89/300\n",
            " 94/101 [==========================>...] - ETA: 0s - loss: 0.5823 - accuracy: 0.9289INFO:tensorflow:Assets written to: /content/drive/MyDrive/intellihack-master/models/model-089.model/assets\n",
            "101/101 [==============================] - 3s 27ms/step - loss: 0.5826 - accuracy: 0.9283 - val_loss: 0.5616 - val_accuracy: 0.9552\n",
            "Epoch 90/300\n",
            " 90/101 [=========================>....] - ETA: 0s - loss: 0.5814 - accuracy: 0.9253INFO:tensorflow:Assets written to: /content/drive/MyDrive/intellihack-master/models/model-090.model/assets\n",
            "101/101 [==============================] - 4s 36ms/step - loss: 0.5821 - accuracy: 0.9261 - val_loss: 0.5604 - val_accuracy: 0.9552\n",
            "Epoch 91/300\n",
            " 99/101 [============================>.] - ETA: 0s - loss: 0.5786 - accuracy: 0.9268INFO:tensorflow:Assets written to: /content/drive/MyDrive/intellihack-master/models/model-091.model/assets\n",
            "101/101 [==============================] - 4s 36ms/step - loss: 0.5786 - accuracy: 0.9261 - val_loss: 0.5591 - val_accuracy: 0.9552\n",
            "Epoch 92/300\n",
            " 89/101 [=========================>....] - ETA: 0s - loss: 0.5783 - accuracy: 0.9280INFO:tensorflow:Assets written to: /content/drive/MyDrive/intellihack-master/models/model-092.model/assets\n",
            "101/101 [==============================] - 4s 38ms/step - loss: 0.5792 - accuracy: 0.9268 - val_loss: 0.5577 - val_accuracy: 0.9552\n",
            "Epoch 93/300\n",
            " 90/101 [=========================>....] - ETA: 0s - loss: 0.5774 - accuracy: 0.9309INFO:tensorflow:Assets written to: /content/drive/MyDrive/intellihack-master/models/model-093.model/assets\n",
            "101/101 [==============================] - 3s 27ms/step - loss: 0.5793 - accuracy: 0.9308 - val_loss: 0.5564 - val_accuracy: 0.9552\n",
            "Epoch 94/300\n",
            " 94/101 [==========================>...] - ETA: 0s - loss: 0.5752 - accuracy: 0.9295INFO:tensorflow:Assets written to: /content/drive/MyDrive/intellihack-master/models/model-094.model/assets\n",
            "101/101 [==============================] - 4s 36ms/step - loss: 0.5744 - accuracy: 0.9311 - val_loss: 0.5551 - val_accuracy: 0.9552\n",
            "Epoch 95/300\n",
            " 87/101 [========================>.....] - ETA: 0s - loss: 0.5765 - accuracy: 0.9339INFO:tensorflow:Assets written to: /content/drive/MyDrive/intellihack-master/models/model-095.model/assets\n",
            "101/101 [==============================] - 3s 28ms/step - loss: 0.5751 - accuracy: 0.9330 - val_loss: 0.5538 - val_accuracy: 0.9552\n",
            "Epoch 96/300\n",
            " 91/101 [==========================>...] - ETA: 0s - loss: 0.5764 - accuracy: 0.9272INFO:tensorflow:Assets written to: /content/drive/MyDrive/intellihack-master/models/model-096.model/assets\n",
            "101/101 [==============================] - 3s 27ms/step - loss: 0.5752 - accuracy: 0.9283 - val_loss: 0.5526 - val_accuracy: 0.9552\n",
            "Epoch 97/300\n",
            " 98/101 [============================>.] - ETA: 0s - loss: 0.5756 - accuracy: 0.9289INFO:tensorflow:Assets written to: /content/drive/MyDrive/intellihack-master/models/model-097.model/assets\n",
            "101/101 [==============================] - 3s 26ms/step - loss: 0.5762 - accuracy: 0.9277 - val_loss: 0.5514 - val_accuracy: 0.9552\n",
            "Epoch 98/300\n",
            "100/101 [============================>.] - ETA: 0s - loss: 0.5695 - accuracy: 0.9331INFO:tensorflow:Assets written to: /content/drive/MyDrive/intellihack-master/models/model-098.model/assets\n",
            "101/101 [==============================] - 3s 27ms/step - loss: 0.5697 - accuracy: 0.9327 - val_loss: 0.5501 - val_accuracy: 0.9552\n",
            "Epoch 99/300\n",
            " 99/101 [============================>.] - ETA: 0s - loss: 0.5764 - accuracy: 0.9328INFO:tensorflow:Assets written to: /content/drive/MyDrive/intellihack-master/models/model-099.model/assets\n",
            "101/101 [==============================] - 4s 36ms/step - loss: 0.5763 - accuracy: 0.9324 - val_loss: 0.5489 - val_accuracy: 0.9552\n",
            "Epoch 100/300\n",
            " 95/101 [===========================>..] - ETA: 0s - loss: 0.5707 - accuracy: 0.9306INFO:tensorflow:Assets written to: /content/drive/MyDrive/intellihack-master/models/model-100.model/assets\n",
            "101/101 [==============================] - 4s 38ms/step - loss: 0.5706 - accuracy: 0.9308 - val_loss: 0.5477 - val_accuracy: 0.9552\n",
            "Epoch 101/300\n",
            " 86/101 [========================>.....] - ETA: 0s - loss: 0.5718 - accuracy: 0.9295INFO:tensorflow:Assets written to: /content/drive/MyDrive/intellihack-master/models/model-101.model/assets\n",
            "101/101 [==============================] - 3s 27ms/step - loss: 0.5719 - accuracy: 0.9286 - val_loss: 0.5465 - val_accuracy: 0.9552\n",
            "Epoch 102/300\n",
            " 90/101 [=========================>....] - ETA: 0s - loss: 0.5691 - accuracy: 0.9285INFO:tensorflow:Assets written to: /content/drive/MyDrive/intellihack-master/models/model-102.model/assets\n",
            "101/101 [==============================] - 4s 36ms/step - loss: 0.5690 - accuracy: 0.9302 - val_loss: 0.5452 - val_accuracy: 0.9552\n",
            "Epoch 103/300\n",
            " 97/101 [===========================>..] - ETA: 0s - loss: 0.5661 - accuracy: 0.9327INFO:tensorflow:Assets written to: /content/drive/MyDrive/intellihack-master/models/model-103.model/assets\n",
            "101/101 [==============================] - 3s 27ms/step - loss: 0.5659 - accuracy: 0.9339 - val_loss: 0.5439 - val_accuracy: 0.9552\n",
            "Epoch 104/300\n",
            " 92/101 [==========================>...] - ETA: 0s - loss: 0.5658 - accuracy: 0.9348INFO:tensorflow:Assets written to: /content/drive/MyDrive/intellihack-master/models/model-104.model/assets\n",
            "101/101 [==============================] - 4s 36ms/step - loss: 0.5650 - accuracy: 0.9342 - val_loss: 0.5426 - val_accuracy: 0.9552\n",
            "Epoch 105/300\n",
            " 97/101 [===========================>..] - ETA: 0s - loss: 0.5674 - accuracy: 0.9343INFO:tensorflow:Assets written to: /content/drive/MyDrive/intellihack-master/models/model-105.model/assets\n",
            "101/101 [==============================] - 4s 36ms/step - loss: 0.5673 - accuracy: 0.9349 - val_loss: 0.5413 - val_accuracy: 0.9552\n",
            "Epoch 106/300\n",
            " 98/101 [============================>.] - ETA: 0s - loss: 0.5652 - accuracy: 0.9305INFO:tensorflow:Assets written to: /content/drive/MyDrive/intellihack-master/models/model-106.model/assets\n",
            "101/101 [==============================] - 5s 45ms/step - loss: 0.5653 - accuracy: 0.9308 - val_loss: 0.5400 - val_accuracy: 0.9552\n",
            "Epoch 107/300\n",
            "100/101 [============================>.] - ETA: 0s - loss: 0.5624 - accuracy: 0.9347INFO:tensorflow:Assets written to: /content/drive/MyDrive/intellihack-master/models/model-107.model/assets\n",
            "101/101 [==============================] - 3s 27ms/step - loss: 0.5624 - accuracy: 0.9349 - val_loss: 0.5387 - val_accuracy: 0.9552\n",
            "Epoch 108/300\n",
            " 86/101 [========================>.....] - ETA: 0s - loss: 0.5635 - accuracy: 0.9350INFO:tensorflow:Assets written to: /content/drive/MyDrive/intellihack-master/models/model-108.model/assets\n",
            "101/101 [==============================] - 4s 38ms/step - loss: 0.5641 - accuracy: 0.9339 - val_loss: 0.5374 - val_accuracy: 0.9552\n",
            "Epoch 109/300\n",
            " 94/101 [==========================>...] - ETA: 0s - loss: 0.5649 - accuracy: 0.9352INFO:tensorflow:Assets written to: /content/drive/MyDrive/intellihack-master/models/model-109.model/assets\n",
            "101/101 [==============================] - 3s 27ms/step - loss: 0.5645 - accuracy: 0.9346 - val_loss: 0.5362 - val_accuracy: 0.9552\n",
            "Epoch 110/300\n",
            " 98/101 [============================>.] - ETA: 0s - loss: 0.5603 - accuracy: 0.9340INFO:tensorflow:Assets written to: /content/drive/MyDrive/intellihack-master/models/model-110.model/assets\n",
            "101/101 [==============================] - 4s 37ms/step - loss: 0.5599 - accuracy: 0.9342 - val_loss: 0.5348 - val_accuracy: 0.9552\n",
            "Epoch 111/300\n",
            " 96/101 [===========================>..] - ETA: 0s - loss: 0.5567 - accuracy: 0.9329INFO:tensorflow:Assets written to: /content/drive/MyDrive/intellihack-master/models/model-111.model/assets\n",
            "101/101 [==============================] - 4s 37ms/step - loss: 0.5567 - accuracy: 0.9333 - val_loss: 0.5335 - val_accuracy: 0.9552\n",
            "Epoch 112/300\n",
            " 90/101 [=========================>....] - ETA: 0s - loss: 0.5602 - accuracy: 0.9358INFO:tensorflow:Assets written to: /content/drive/MyDrive/intellihack-master/models/model-112.model/assets\n",
            "101/101 [==============================] - 3s 27ms/step - loss: 0.5601 - accuracy: 0.9358 - val_loss: 0.5323 - val_accuracy: 0.9552\n",
            "Epoch 113/300\n",
            " 93/101 [==========================>...] - ETA: 0s - loss: 0.5558 - accuracy: 0.9348INFO:tensorflow:Assets written to: /content/drive/MyDrive/intellihack-master/models/model-113.model/assets\n",
            "101/101 [==============================] - 3s 28ms/step - loss: 0.5569 - accuracy: 0.9333 - val_loss: 0.5309 - val_accuracy: 0.9552\n",
            "Epoch 114/300\n",
            " 83/101 [=======================>......] - ETA: 0s - loss: 0.5581 - accuracy: 0.9326INFO:tensorflow:Assets written to: /content/drive/MyDrive/intellihack-master/models/model-114.model/assets\n",
            "101/101 [==============================] - 3s 27ms/step - loss: 0.5580 - accuracy: 0.9327 - val_loss: 0.5296 - val_accuracy: 0.9552\n",
            "Epoch 115/300\n",
            " 87/101 [========================>.....] - ETA: 0s - loss: 0.5548 - accuracy: 0.9314INFO:tensorflow:Assets written to: /content/drive/MyDrive/intellihack-master/models/model-115.model/assets\n",
            "101/101 [==============================] - 3s 28ms/step - loss: 0.5544 - accuracy: 0.9342 - val_loss: 0.5283 - val_accuracy: 0.9552\n",
            "Epoch 116/300\n",
            " 99/101 [============================>.] - ETA: 0s - loss: 0.5570 - accuracy: 0.9321INFO:tensorflow:Assets written to: /content/drive/MyDrive/intellihack-master/models/model-116.model/assets\n",
            "101/101 [==============================] - 4s 38ms/step - loss: 0.5567 - accuracy: 0.9324 - val_loss: 0.5271 - val_accuracy: 0.9552\n",
            "Epoch 117/300\n",
            " 83/101 [=======================>......] - ETA: 0s - loss: 0.5511 - accuracy: 0.9367INFO:tensorflow:Assets written to: /content/drive/MyDrive/intellihack-master/models/model-117.model/assets\n",
            "101/101 [==============================] - 4s 36ms/step - loss: 0.5534 - accuracy: 0.9374 - val_loss: 0.5258 - val_accuracy: 0.9552\n",
            "Epoch 118/300\n",
            " 96/101 [===========================>..] - ETA: 0s - loss: 0.5533 - accuracy: 0.9362INFO:tensorflow:Assets written to: /content/drive/MyDrive/intellihack-master/models/model-118.model/assets\n",
            "101/101 [==============================] - 4s 36ms/step - loss: 0.5529 - accuracy: 0.9374 - val_loss: 0.5245 - val_accuracy: 0.9552\n",
            "Epoch 119/300\n",
            " 92/101 [==========================>...] - ETA: 0s - loss: 0.5466 - accuracy: 0.9395INFO:tensorflow:Assets written to: /content/drive/MyDrive/intellihack-master/models/model-119.model/assets\n",
            "101/101 [==============================] - 3s 27ms/step - loss: 0.5483 - accuracy: 0.9371 - val_loss: 0.5232 - val_accuracy: 0.9552\n",
            "Epoch 120/300\n",
            " 90/101 [=========================>....] - ETA: 0s - loss: 0.5539 - accuracy: 0.9354INFO:tensorflow:Assets written to: /content/drive/MyDrive/intellihack-master/models/model-120.model/assets\n",
            "101/101 [==============================] - 3s 27ms/step - loss: 0.5544 - accuracy: 0.9342 - val_loss: 0.5219 - val_accuracy: 0.9552\n",
            "Epoch 121/300\n",
            " 92/101 [==========================>...] - ETA: 0s - loss: 0.5510 - accuracy: 0.9307INFO:tensorflow:Assets written to: /content/drive/MyDrive/intellihack-master/models/model-121.model/assets\n",
            "101/101 [==============================] - 3s 27ms/step - loss: 0.5501 - accuracy: 0.9333 - val_loss: 0.5206 - val_accuracy: 0.9552\n",
            "Epoch 122/300\n",
            " 91/101 [==========================>...] - ETA: 0s - loss: 0.5471 - accuracy: 0.9348INFO:tensorflow:Assets written to: /content/drive/MyDrive/intellihack-master/models/model-122.model/assets\n",
            "101/101 [==============================] - 3s 28ms/step - loss: 0.5467 - accuracy: 0.9349 - val_loss: 0.5192 - val_accuracy: 0.9552\n",
            "Epoch 123/300\n",
            " 88/101 [=========================>....] - ETA: 0s - loss: 0.5448 - accuracy: 0.9304INFO:tensorflow:Assets written to: /content/drive/MyDrive/intellihack-master/models/model-123.model/assets\n",
            "101/101 [==============================] - 3s 27ms/step - loss: 0.5441 - accuracy: 0.9314 - val_loss: 0.5179 - val_accuracy: 0.9552\n",
            "Epoch 124/300\n",
            " 91/101 [==========================>...] - ETA: 0s - loss: 0.5434 - accuracy: 0.9361INFO:tensorflow:Assets written to: /content/drive/MyDrive/intellihack-master/models/model-124.model/assets\n",
            "101/101 [==============================] - 4s 38ms/step - loss: 0.5426 - accuracy: 0.9342 - val_loss: 0.5165 - val_accuracy: 0.9552\n",
            "Epoch 125/300\n",
            " 93/101 [==========================>...] - ETA: 0s - loss: 0.5480 - accuracy: 0.9382INFO:tensorflow:Assets written to: /content/drive/MyDrive/intellihack-master/models/model-125.model/assets\n",
            "101/101 [==============================] - 4s 36ms/step - loss: 0.5471 - accuracy: 0.9377 - val_loss: 0.5152 - val_accuracy: 0.9552\n",
            "Epoch 126/300\n",
            " 94/101 [==========================>...] - ETA: 0s - loss: 0.5448 - accuracy: 0.9345INFO:tensorflow:Assets written to: /content/drive/MyDrive/intellihack-master/models/model-126.model/assets\n",
            "101/101 [==============================] - 3s 27ms/step - loss: 0.5453 - accuracy: 0.9336 - val_loss: 0.5139 - val_accuracy: 0.9552\n",
            "Epoch 127/300\n",
            " 98/101 [============================>.] - ETA: 0s - loss: 0.5439 - accuracy: 0.9340INFO:tensorflow:Assets written to: /content/drive/MyDrive/intellihack-master/models/model-127.model/assets\n",
            "101/101 [==============================] - 4s 37ms/step - loss: 0.5436 - accuracy: 0.9339 - val_loss: 0.5126 - val_accuracy: 0.9552\n",
            "Epoch 128/300\n",
            "100/101 [============================>.] - ETA: 0s - loss: 0.5437 - accuracy: 0.9394INFO:tensorflow:Assets written to: /content/drive/MyDrive/intellihack-master/models/model-128.model/assets\n",
            "101/101 [==============================] - 4s 37ms/step - loss: 0.5434 - accuracy: 0.9395 - val_loss: 0.5112 - val_accuracy: 0.9552\n",
            "Epoch 129/300\n",
            " 90/101 [=========================>....] - ETA: 0s - loss: 0.5361 - accuracy: 0.9347INFO:tensorflow:Assets written to: /content/drive/MyDrive/intellihack-master/models/model-129.model/assets\n",
            "101/101 [==============================] - 3s 27ms/step - loss: 0.5368 - accuracy: 0.9339 - val_loss: 0.5098 - val_accuracy: 0.9552\n",
            "Epoch 130/300\n",
            " 96/101 [===========================>..] - ETA: 0s - loss: 0.5385 - accuracy: 0.9372INFO:tensorflow:Assets written to: /content/drive/MyDrive/intellihack-master/models/model-130.model/assets\n",
            "101/101 [==============================] - 3s 27ms/step - loss: 0.5388 - accuracy: 0.9364 - val_loss: 0.5084 - val_accuracy: 0.9552\n",
            "Epoch 131/300\n",
            "101/101 [==============================] - ETA: 0s - loss: 0.5346 - accuracy: 0.9364INFO:tensorflow:Assets written to: /content/drive/MyDrive/intellihack-master/models/model-131.model/assets\n",
            "101/101 [==============================] - 3s 27ms/step - loss: 0.5346 - accuracy: 0.9364 - val_loss: 0.5071 - val_accuracy: 0.9552\n",
            "Epoch 132/300\n",
            " 95/101 [===========================>..] - ETA: 0s - loss: 0.5380 - accuracy: 0.9345INFO:tensorflow:Assets written to: /content/drive/MyDrive/intellihack-master/models/model-132.model/assets\n",
            "101/101 [==============================] - 4s 39ms/step - loss: 0.5371 - accuracy: 0.9342 - val_loss: 0.5057 - val_accuracy: 0.9552\n",
            "Epoch 133/300\n",
            " 94/101 [==========================>...] - ETA: 0s - loss: 0.5323 - accuracy: 0.9398INFO:tensorflow:Assets written to: /content/drive/MyDrive/intellihack-master/models/model-133.model/assets\n",
            "101/101 [==============================] - 3s 27ms/step - loss: 0.5324 - accuracy: 0.9402 - val_loss: 0.5043 - val_accuracy: 0.9552\n",
            "Epoch 134/300\n",
            " 99/101 [============================>.] - ETA: 0s - loss: 0.5316 - accuracy: 0.9394INFO:tensorflow:Assets written to: /content/drive/MyDrive/intellihack-master/models/model-134.model/assets\n",
            "101/101 [==============================] - 3s 27ms/step - loss: 0.5315 - accuracy: 0.9392 - val_loss: 0.5029 - val_accuracy: 0.9552\n",
            "Epoch 135/300\n",
            "100/101 [============================>.] - ETA: 0s - loss: 0.5371 - accuracy: 0.9362INFO:tensorflow:Assets written to: /content/drive/MyDrive/intellihack-master/models/model-135.model/assets\n",
            "101/101 [==============================] - 3s 27ms/step - loss: 0.5372 - accuracy: 0.9361 - val_loss: 0.5016 - val_accuracy: 0.9552\n",
            "Epoch 136/300\n",
            " 99/101 [============================>.] - ETA: 0s - loss: 0.5327 - accuracy: 0.9384INFO:tensorflow:Assets written to: /content/drive/MyDrive/intellihack-master/models/model-136.model/assets\n",
            "101/101 [==============================] - 4s 38ms/step - loss: 0.5332 - accuracy: 0.9377 - val_loss: 0.5002 - val_accuracy: 0.9552\n",
            "Epoch 137/300\n",
            "100/101 [============================>.] - ETA: 0s - loss: 0.5396 - accuracy: 0.9369INFO:tensorflow:Assets written to: /content/drive/MyDrive/intellihack-master/models/model-137.model/assets\n",
            "101/101 [==============================] - 4s 35ms/step - loss: 0.5394 - accuracy: 0.9371 - val_loss: 0.4990 - val_accuracy: 0.9552\n",
            "Epoch 138/300\n",
            " 94/101 [==========================>...] - ETA: 0s - loss: 0.5299 - accuracy: 0.9402INFO:tensorflow:Assets written to: /content/drive/MyDrive/intellihack-master/models/model-138.model/assets\n",
            "101/101 [==============================] - 4s 36ms/step - loss: 0.5301 - accuracy: 0.9395 - val_loss: 0.4977 - val_accuracy: 0.9552\n",
            "Epoch 139/300\n",
            " 86/101 [========================>.....] - ETA: 0s - loss: 0.5274 - accuracy: 0.9430INFO:tensorflow:Assets written to: /content/drive/MyDrive/intellihack-master/models/model-139.model/assets\n",
            "101/101 [==============================] - 3s 27ms/step - loss: 0.5277 - accuracy: 0.9402 - val_loss: 0.4962 - val_accuracy: 0.9552\n",
            "Epoch 140/300\n",
            " 88/101 [=========================>....] - ETA: 0s - loss: 0.5262 - accuracy: 0.9379INFO:tensorflow:Assets written to: /content/drive/MyDrive/intellihack-master/models/model-140.model/assets\n",
            "101/101 [==============================] - 4s 38ms/step - loss: 0.5263 - accuracy: 0.9399 - val_loss: 0.4949 - val_accuracy: 0.9552\n",
            "Epoch 141/300\n",
            "100/101 [============================>.] - ETA: 0s - loss: 0.5270 - accuracy: 0.9388INFO:tensorflow:Assets written to: /content/drive/MyDrive/intellihack-master/models/model-141.model/assets\n",
            "101/101 [==============================] - 3s 27ms/step - loss: 0.5270 - accuracy: 0.9386 - val_loss: 0.4936 - val_accuracy: 0.9552\n",
            "Epoch 142/300\n",
            " 85/101 [========================>.....] - ETA: 0s - loss: 0.5236 - accuracy: 0.9357INFO:tensorflow:Assets written to: /content/drive/MyDrive/intellihack-master/models/model-142.model/assets\n",
            "101/101 [==============================] - 3s 28ms/step - loss: 0.5240 - accuracy: 0.9355 - val_loss: 0.4921 - val_accuracy: 0.9552\n",
            "Epoch 143/300\n",
            " 97/101 [===========================>..] - ETA: 0s - loss: 0.5255 - accuracy: 0.9385INFO:tensorflow:Assets written to: /content/drive/MyDrive/intellihack-master/models/model-143.model/assets\n",
            "101/101 [==============================] - 3s 27ms/step - loss: 0.5261 - accuracy: 0.9377 - val_loss: 0.4908 - val_accuracy: 0.9552\n",
            "Epoch 144/300\n",
            "100/101 [============================>.] - ETA: 0s - loss: 0.5256 - accuracy: 0.9391INFO:tensorflow:Assets written to: /content/drive/MyDrive/intellihack-master/models/model-144.model/assets\n",
            "101/101 [==============================] - 3s 27ms/step - loss: 0.5256 - accuracy: 0.9392 - val_loss: 0.4895 - val_accuracy: 0.9552\n",
            "Epoch 145/300\n",
            " 86/101 [========================>.....] - ETA: 0s - loss: 0.5302 - accuracy: 0.9375INFO:tensorflow:Assets written to: /content/drive/MyDrive/intellihack-master/models/model-145.model/assets\n",
            "101/101 [==============================] - 3s 27ms/step - loss: 0.5313 - accuracy: 0.9386 - val_loss: 0.4883 - val_accuracy: 0.9552\n",
            "Epoch 146/300\n",
            " 90/101 [=========================>....] - ETA: 0s - loss: 0.5208 - accuracy: 0.9417INFO:tensorflow:Assets written to: /content/drive/MyDrive/intellihack-master/models/model-146.model/assets\n",
            "101/101 [==============================] - 3s 27ms/step - loss: 0.5228 - accuracy: 0.9389 - val_loss: 0.4869 - val_accuracy: 0.9552\n",
            "Epoch 147/300\n",
            " 96/101 [===========================>..] - ETA: 0s - loss: 0.5227 - accuracy: 0.9385INFO:tensorflow:Assets written to: /content/drive/MyDrive/intellihack-master/models/model-147.model/assets\n",
            "101/101 [==============================] - 4s 36ms/step - loss: 0.5232 - accuracy: 0.9380 - val_loss: 0.4856 - val_accuracy: 0.9552\n",
            "Epoch 148/300\n",
            " 98/101 [============================>.] - ETA: 0s - loss: 0.5245 - accuracy: 0.9378INFO:tensorflow:Assets written to: /content/drive/MyDrive/intellihack-master/models/model-148.model/assets\n",
            "101/101 [==============================] - 4s 38ms/step - loss: 0.5238 - accuracy: 0.9386 - val_loss: 0.4844 - val_accuracy: 0.9552\n",
            "Epoch 149/300\n",
            " 96/101 [===========================>..] - ETA: 0s - loss: 0.5233 - accuracy: 0.9417INFO:tensorflow:Assets written to: /content/drive/MyDrive/intellihack-master/models/model-149.model/assets\n",
            "101/101 [==============================] - 6s 56ms/step - loss: 0.5236 - accuracy: 0.9420 - val_loss: 0.4831 - val_accuracy: 0.9552\n",
            "Epoch 150/300\n",
            " 95/101 [===========================>..] - ETA: 0s - loss: 0.5222 - accuracy: 0.9401INFO:tensorflow:Assets written to: /content/drive/MyDrive/intellihack-master/models/model-150.model/assets\n",
            "101/101 [==============================] - 6s 60ms/step - loss: 0.5221 - accuracy: 0.9380 - val_loss: 0.4818 - val_accuracy: 0.9552\n",
            "Epoch 151/300\n",
            " 95/101 [===========================>..] - ETA: 0s - loss: 0.5205 - accuracy: 0.9382INFO:tensorflow:Assets written to: /content/drive/MyDrive/intellihack-master/models/model-151.model/assets\n",
            "101/101 [==============================] - 3s 28ms/step - loss: 0.5213 - accuracy: 0.9377 - val_loss: 0.4805 - val_accuracy: 0.9552\n",
            "Epoch 152/300\n",
            " 94/101 [==========================>...] - ETA: 0s - loss: 0.5156 - accuracy: 0.9392INFO:tensorflow:Assets written to: /content/drive/MyDrive/intellihack-master/models/model-152.model/assets\n",
            "101/101 [==============================] - 4s 36ms/step - loss: 0.5159 - accuracy: 0.9392 - val_loss: 0.4791 - val_accuracy: 0.9552\n",
            "Epoch 153/300\n",
            "100/101 [============================>.] - ETA: 0s - loss: 0.5167 - accuracy: 0.9400INFO:tensorflow:Assets written to: /content/drive/MyDrive/intellihack-master/models/model-153.model/assets\n",
            "101/101 [==============================] - 4s 36ms/step - loss: 0.5170 - accuracy: 0.9395 - val_loss: 0.4777 - val_accuracy: 0.9552\n",
            "Epoch 154/300\n",
            " 92/101 [==========================>...] - ETA: 0s - loss: 0.5148 - accuracy: 0.9375INFO:tensorflow:Assets written to: /content/drive/MyDrive/intellihack-master/models/model-154.model/assets\n",
            "101/101 [==============================] - 3s 27ms/step - loss: 0.5154 - accuracy: 0.9380 - val_loss: 0.4764 - val_accuracy: 0.9552\n",
            "Epoch 155/300\n",
            " 96/101 [===========================>..] - ETA: 0s - loss: 0.5170 - accuracy: 0.9388INFO:tensorflow:Assets written to: /content/drive/MyDrive/intellihack-master/models/model-155.model/assets\n",
            "101/101 [==============================] - 3s 27ms/step - loss: 0.5169 - accuracy: 0.9399 - val_loss: 0.4751 - val_accuracy: 0.9552\n",
            "Epoch 156/300\n",
            " 87/101 [========================>.....] - ETA: 0s - loss: 0.5202 - accuracy: 0.9368INFO:tensorflow:Assets written to: /content/drive/MyDrive/intellihack-master/models/model-156.model/assets\n",
            "101/101 [==============================] - 4s 39ms/step - loss: 0.5174 - accuracy: 0.9374 - val_loss: 0.4739 - val_accuracy: 0.9552\n",
            "Epoch 157/300\n",
            " 90/101 [=========================>....] - ETA: 0s - loss: 0.5148 - accuracy: 0.9385INFO:tensorflow:Assets written to: /content/drive/MyDrive/intellihack-master/models/model-157.model/assets\n",
            "101/101 [==============================] - 3s 26ms/step - loss: 0.5147 - accuracy: 0.9402 - val_loss: 0.4726 - val_accuracy: 0.9552\n",
            "Epoch 158/300\n",
            " 96/101 [===========================>..] - ETA: 0s - loss: 0.5106 - accuracy: 0.9421INFO:tensorflow:Assets written to: /content/drive/MyDrive/intellihack-master/models/model-158.model/assets\n",
            "101/101 [==============================] - 3s 27ms/step - loss: 0.5114 - accuracy: 0.9411 - val_loss: 0.4712 - val_accuracy: 0.9552\n",
            "Epoch 159/300\n",
            " 99/101 [============================>.] - ETA: 0s - loss: 0.5159 - accuracy: 0.9381INFO:tensorflow:Assets written to: /content/drive/MyDrive/intellihack-master/models/model-159.model/assets\n",
            "101/101 [==============================] - 3s 28ms/step - loss: 0.5157 - accuracy: 0.9386 - val_loss: 0.4699 - val_accuracy: 0.9552\n",
            "Epoch 160/300\n",
            " 89/101 [=========================>....] - ETA: 0s - loss: 0.5138 - accuracy: 0.9421INFO:tensorflow:Assets written to: /content/drive/MyDrive/intellihack-master/models/model-160.model/assets\n",
            "101/101 [==============================] - 3s 26ms/step - loss: 0.5134 - accuracy: 0.9408 - val_loss: 0.4687 - val_accuracy: 0.9552\n",
            "Epoch 161/300\n",
            " 90/101 [=========================>....] - ETA: 0s - loss: 0.5128 - accuracy: 0.9417INFO:tensorflow:Assets written to: /content/drive/MyDrive/intellihack-master/models/model-161.model/assets\n",
            "101/101 [==============================] - 4s 36ms/step - loss: 0.5114 - accuracy: 0.9408 - val_loss: 0.4674 - val_accuracy: 0.9552\n",
            "Epoch 162/300\n",
            " 99/101 [============================>.] - ETA: 0s - loss: 0.5100 - accuracy: 0.9426INFO:tensorflow:Assets written to: /content/drive/MyDrive/intellihack-master/models/model-162.model/assets\n",
            "101/101 [==============================] - 3s 27ms/step - loss: 0.5099 - accuracy: 0.9420 - val_loss: 0.4661 - val_accuracy: 0.9552\n",
            "Epoch 163/300\n",
            " 93/101 [==========================>...] - ETA: 0s - loss: 0.5101 - accuracy: 0.9399INFO:tensorflow:Assets written to: /content/drive/MyDrive/intellihack-master/models/model-163.model/assets\n",
            "101/101 [==============================] - 3s 27ms/step - loss: 0.5119 - accuracy: 0.9386 - val_loss: 0.4649 - val_accuracy: 0.9552\n",
            "Epoch 164/300\n",
            " 90/101 [=========================>....] - ETA: 0s - loss: 0.4989 - accuracy: 0.9438INFO:tensorflow:Assets written to: /content/drive/MyDrive/intellihack-master/models/model-164.model/assets\n",
            "101/101 [==============================] - 3s 27ms/step - loss: 0.5028 - accuracy: 0.9417 - val_loss: 0.4636 - val_accuracy: 0.9552\n",
            "Epoch 165/300\n",
            " 92/101 [==========================>...] - ETA: 0s - loss: 0.5073 - accuracy: 0.9402INFO:tensorflow:Assets written to: /content/drive/MyDrive/intellihack-master/models/model-165.model/assets\n",
            "101/101 [==============================] - 4s 39ms/step - loss: 0.5084 - accuracy: 0.9389 - val_loss: 0.4623 - val_accuracy: 0.9552\n",
            "Epoch 166/300\n",
            " 97/101 [===========================>..] - ETA: 0s - loss: 0.5053 - accuracy: 0.9404INFO:tensorflow:Assets written to: /content/drive/MyDrive/intellihack-master/models/model-166.model/assets\n",
            "101/101 [==============================] - 3s 28ms/step - loss: 0.5072 - accuracy: 0.9399 - val_loss: 0.4610 - val_accuracy: 0.9552\n",
            "Epoch 167/300\n",
            " 95/101 [===========================>..] - ETA: 0s - loss: 0.5053 - accuracy: 0.9395INFO:tensorflow:Assets written to: /content/drive/MyDrive/intellihack-master/models/model-167.model/assets\n",
            "101/101 [==============================] - 4s 37ms/step - loss: 0.5043 - accuracy: 0.9405 - val_loss: 0.4597 - val_accuracy: 0.9552\n",
            "Epoch 168/300\n",
            " 96/101 [===========================>..] - ETA: 0s - loss: 0.5097 - accuracy: 0.9401INFO:tensorflow:Assets written to: /content/drive/MyDrive/intellihack-master/models/model-168.model/assets\n",
            "101/101 [==============================] - 4s 39ms/step - loss: 0.5082 - accuracy: 0.9405 - val_loss: 0.4585 - val_accuracy: 0.9552\n",
            "Epoch 169/300\n",
            " 95/101 [===========================>..] - ETA: 0s - loss: 0.5088 - accuracy: 0.9395INFO:tensorflow:Assets written to: /content/drive/MyDrive/intellihack-master/models/model-169.model/assets\n",
            "101/101 [==============================] - 4s 38ms/step - loss: 0.5084 - accuracy: 0.9383 - val_loss: 0.4573 - val_accuracy: 0.9552\n",
            "Epoch 170/300\n",
            "101/101 [==============================] - ETA: 0s - loss: 0.5051 - accuracy: 0.9414INFO:tensorflow:Assets written to: /content/drive/MyDrive/intellihack-master/models/model-170.model/assets\n",
            "101/101 [==============================] - 4s 39ms/step - loss: 0.5051 - accuracy: 0.9414 - val_loss: 0.4562 - val_accuracy: 0.9552\n",
            "Epoch 171/300\n",
            " 98/101 [============================>.] - ETA: 0s - loss: 0.5052 - accuracy: 0.9429INFO:tensorflow:Assets written to: /content/drive/MyDrive/intellihack-master/models/model-171.model/assets\n",
            "101/101 [==============================] - 4s 36ms/step - loss: 0.5049 - accuracy: 0.9430 - val_loss: 0.4549 - val_accuracy: 0.9552\n",
            "Epoch 172/300\n",
            " 94/101 [==========================>...] - ETA: 0s - loss: 0.5033 - accuracy: 0.9388INFO:tensorflow:Assets written to: /content/drive/MyDrive/intellihack-master/models/model-172.model/assets\n",
            "101/101 [==============================] - 3s 28ms/step - loss: 0.5028 - accuracy: 0.9377 - val_loss: 0.4536 - val_accuracy: 0.9552\n",
            "Epoch 173/300\n",
            " 98/101 [============================>.] - ETA: 0s - loss: 0.5060 - accuracy: 0.9394INFO:tensorflow:Assets written to: /content/drive/MyDrive/intellihack-master/models/model-173.model/assets\n",
            "101/101 [==============================] - 4s 38ms/step - loss: 0.5053 - accuracy: 0.9405 - val_loss: 0.4524 - val_accuracy: 0.9552\n",
            "Epoch 174/300\n",
            " 89/101 [=========================>....] - ETA: 0s - loss: 0.5004 - accuracy: 0.9417INFO:tensorflow:Assets written to: /content/drive/MyDrive/intellihack-master/models/model-174.model/assets\n",
            "101/101 [==============================] - 4s 38ms/step - loss: 0.4997 - accuracy: 0.9430 - val_loss: 0.4511 - val_accuracy: 0.9552\n",
            "Epoch 175/300\n",
            " 98/101 [============================>.] - ETA: 0s - loss: 0.4957 - accuracy: 0.9394INFO:tensorflow:Assets written to: /content/drive/MyDrive/intellihack-master/models/model-175.model/assets\n",
            "101/101 [==============================] - 3s 28ms/step - loss: 0.4957 - accuracy: 0.9389 - val_loss: 0.4497 - val_accuracy: 0.9552\n",
            "Epoch 176/300\n",
            " 90/101 [=========================>....] - ETA: 0s - loss: 0.4990 - accuracy: 0.9396INFO:tensorflow:Assets written to: /content/drive/MyDrive/intellihack-master/models/model-176.model/assets\n",
            "101/101 [==============================] - 4s 38ms/step - loss: 0.4976 - accuracy: 0.9414 - val_loss: 0.4485 - val_accuracy: 0.9552\n",
            "Epoch 177/300\n",
            " 87/101 [========================>.....] - ETA: 0s - loss: 0.4940 - accuracy: 0.9411INFO:tensorflow:Assets written to: /content/drive/MyDrive/intellihack-master/models/model-177.model/assets\n",
            "101/101 [==============================] - 3s 28ms/step - loss: 0.4948 - accuracy: 0.9433 - val_loss: 0.4472 - val_accuracy: 0.9552\n",
            "Epoch 178/300\n",
            " 95/101 [===========================>..] - ETA: 0s - loss: 0.4995 - accuracy: 0.9401INFO:tensorflow:Assets written to: /content/drive/MyDrive/intellihack-master/models/model-178.model/assets\n",
            "101/101 [==============================] - 3s 28ms/step - loss: 0.4989 - accuracy: 0.9408 - val_loss: 0.4460 - val_accuracy: 0.9552\n",
            "Epoch 179/300\n",
            " 89/101 [=========================>....] - ETA: 0s - loss: 0.4984 - accuracy: 0.9396INFO:tensorflow:Assets written to: /content/drive/MyDrive/intellihack-master/models/model-179.model/assets\n",
            "101/101 [==============================] - 3s 28ms/step - loss: 0.4972 - accuracy: 0.9395 - val_loss: 0.4448 - val_accuracy: 0.9552\n",
            "Epoch 180/300\n",
            "100/101 [============================>.] - ETA: 0s - loss: 0.4955 - accuracy: 0.9403INFO:tensorflow:Assets written to: /content/drive/MyDrive/intellihack-master/models/model-180.model/assets\n",
            "101/101 [==============================] - 4s 36ms/step - loss: 0.4954 - accuracy: 0.9405 - val_loss: 0.4435 - val_accuracy: 0.9552\n",
            "Epoch 181/300\n",
            " 97/101 [===========================>..] - ETA: 0s - loss: 0.4971 - accuracy: 0.9385INFO:tensorflow:Assets written to: /content/drive/MyDrive/intellihack-master/models/model-181.model/assets\n",
            "101/101 [==============================] - 4s 38ms/step - loss: 0.4967 - accuracy: 0.9389 - val_loss: 0.4424 - val_accuracy: 0.9552\n",
            "Epoch 182/300\n",
            " 90/101 [=========================>....] - ETA: 0s - loss: 0.4961 - accuracy: 0.9351INFO:tensorflow:Assets written to: /content/drive/MyDrive/intellihack-master/models/model-182.model/assets\n",
            "101/101 [==============================] - 3s 27ms/step - loss: 0.4941 - accuracy: 0.9377 - val_loss: 0.4412 - val_accuracy: 0.9552\n",
            "Epoch 183/300\n",
            " 87/101 [========================>.....] - ETA: 0s - loss: 0.4957 - accuracy: 0.9407INFO:tensorflow:Assets written to: /content/drive/MyDrive/intellihack-master/models/model-183.model/assets\n",
            "101/101 [==============================] - 3s 27ms/step - loss: 0.4972 - accuracy: 0.9402 - val_loss: 0.4401 - val_accuracy: 0.9552\n",
            "Epoch 184/300\n",
            " 92/101 [==========================>...] - ETA: 0s - loss: 0.4937 - accuracy: 0.9389INFO:tensorflow:Assets written to: /content/drive/MyDrive/intellihack-master/models/model-184.model/assets\n",
            "101/101 [==============================] - 3s 27ms/step - loss: 0.4936 - accuracy: 0.9392 - val_loss: 0.4389 - val_accuracy: 0.9552\n",
            "Epoch 185/300\n",
            " 87/101 [========================>.....] - ETA: 0s - loss: 0.4880 - accuracy: 0.9440INFO:tensorflow:Assets written to: /content/drive/MyDrive/intellihack-master/models/model-185.model/assets\n",
            "101/101 [==============================] - 3s 27ms/step - loss: 0.4891 - accuracy: 0.9420 - val_loss: 0.4377 - val_accuracy: 0.9552\n",
            "Epoch 186/300\n",
            " 89/101 [=========================>....] - ETA: 0s - loss: 0.4910 - accuracy: 0.9428INFO:tensorflow:Assets written to: /content/drive/MyDrive/intellihack-master/models/model-186.model/assets\n",
            "101/101 [==============================] - 4s 37ms/step - loss: 0.4921 - accuracy: 0.9439 - val_loss: 0.4366 - val_accuracy: 0.9552\n",
            "Epoch 187/300\n",
            " 99/101 [============================>.] - ETA: 0s - loss: 0.4901 - accuracy: 0.9400INFO:tensorflow:Assets written to: /content/drive/MyDrive/intellihack-master/models/model-187.model/assets\n",
            "101/101 [==============================] - 3s 27ms/step - loss: 0.4908 - accuracy: 0.9399 - val_loss: 0.4353 - val_accuracy: 0.9552\n",
            "Epoch 188/300\n",
            " 93/101 [==========================>...] - ETA: 0s - loss: 0.4928 - accuracy: 0.9405INFO:tensorflow:Assets written to: /content/drive/MyDrive/intellihack-master/models/model-188.model/assets\n",
            "101/101 [==============================] - 3s 28ms/step - loss: 0.4930 - accuracy: 0.9402 - val_loss: 0.4343 - val_accuracy: 0.9552\n",
            "Epoch 189/300\n",
            " 98/101 [============================>.] - ETA: 0s - loss: 0.4864 - accuracy: 0.9385INFO:tensorflow:Assets written to: /content/drive/MyDrive/intellihack-master/models/model-189.model/assets\n",
            "101/101 [==============================] - 4s 39ms/step - loss: 0.4859 - accuracy: 0.9383 - val_loss: 0.4331 - val_accuracy: 0.9552\n",
            "Epoch 190/300\n",
            "101/101 [==============================] - ETA: 0s - loss: 0.4826 - accuracy: 0.9420INFO:tensorflow:Assets written to: /content/drive/MyDrive/intellihack-master/models/model-190.model/assets\n",
            "101/101 [==============================] - 3s 27ms/step - loss: 0.4826 - accuracy: 0.9420 - val_loss: 0.4319 - val_accuracy: 0.9552\n",
            "Epoch 191/300\n",
            " 95/101 [===========================>..] - ETA: 0s - loss: 0.4958 - accuracy: 0.9378INFO:tensorflow:Assets written to: /content/drive/MyDrive/intellihack-master/models/model-191.model/assets\n",
            "101/101 [==============================] - 4s 36ms/step - loss: 0.4945 - accuracy: 0.9389 - val_loss: 0.4308 - val_accuracy: 0.9552\n",
            "Epoch 192/300\n",
            " 91/101 [==========================>...] - ETA: 0s - loss: 0.4838 - accuracy: 0.9427INFO:tensorflow:Assets written to: /content/drive/MyDrive/intellihack-master/models/model-192.model/assets\n",
            "101/101 [==============================] - 3s 27ms/step - loss: 0.4843 - accuracy: 0.9427 - val_loss: 0.4298 - val_accuracy: 0.9552\n",
            "Epoch 193/300\n",
            "101/101 [==============================] - ETA: 0s - loss: 0.4847 - accuracy: 0.9395INFO:tensorflow:Assets written to: /content/drive/MyDrive/intellihack-master/models/model-193.model/assets\n",
            "101/101 [==============================] - 3s 26ms/step - loss: 0.4847 - accuracy: 0.9395 - val_loss: 0.4286 - val_accuracy: 0.9552\n",
            "Epoch 194/300\n",
            " 93/101 [==========================>...] - ETA: 0s - loss: 0.4914 - accuracy: 0.9409INFO:tensorflow:Assets written to: /content/drive/MyDrive/intellihack-master/models/model-194.model/assets\n",
            "101/101 [==============================] - 3s 27ms/step - loss: 0.4922 - accuracy: 0.9408 - val_loss: 0.4275 - val_accuracy: 0.9552\n",
            "Epoch 195/300\n",
            "100/101 [============================>.] - ETA: 0s - loss: 0.4835 - accuracy: 0.9384INFO:tensorflow:Assets written to: /content/drive/MyDrive/intellihack-master/models/model-195.model/assets\n",
            "101/101 [==============================] - 4s 36ms/step - loss: 0.4831 - accuracy: 0.9386 - val_loss: 0.4263 - val_accuracy: 0.9552\n",
            "Epoch 196/300\n",
            " 91/101 [==========================>...] - ETA: 0s - loss: 0.4881 - accuracy: 0.9402INFO:tensorflow:Assets written to: /content/drive/MyDrive/intellihack-master/models/model-196.model/assets\n",
            "101/101 [==============================] - 4s 36ms/step - loss: 0.4866 - accuracy: 0.9417 - val_loss: 0.4252 - val_accuracy: 0.9552\n",
            "Epoch 197/300\n",
            " 89/101 [=========================>....] - ETA: 0s - loss: 0.4810 - accuracy: 0.9442INFO:tensorflow:Assets written to: /content/drive/MyDrive/intellihack-master/models/model-197.model/assets\n",
            "101/101 [==============================] - 4s 37ms/step - loss: 0.4816 - accuracy: 0.9442 - val_loss: 0.4240 - val_accuracy: 0.9552\n",
            "Epoch 198/300\n",
            " 99/101 [============================>.] - ETA: 0s - loss: 0.4854 - accuracy: 0.9407INFO:tensorflow:Assets written to: /content/drive/MyDrive/intellihack-master/models/model-198.model/assets\n",
            "101/101 [==============================] - 3s 27ms/step - loss: 0.4858 - accuracy: 0.9405 - val_loss: 0.4229 - val_accuracy: 0.9552\n",
            "Epoch 199/300\n",
            " 98/101 [============================>.] - ETA: 0s - loss: 0.4821 - accuracy: 0.9394INFO:tensorflow:Assets written to: /content/drive/MyDrive/intellihack-master/models/model-199.model/assets\n",
            "101/101 [==============================] - 3s 28ms/step - loss: 0.4815 - accuracy: 0.9399 - val_loss: 0.4217 - val_accuracy: 0.9552\n",
            "Epoch 200/300\n",
            "101/101 [==============================] - ETA: 0s - loss: 0.4767 - accuracy: 0.9411INFO:tensorflow:Assets written to: /content/drive/MyDrive/intellihack-master/models/model-200.model/assets\n",
            "101/101 [==============================] - 3s 26ms/step - loss: 0.4767 - accuracy: 0.9411 - val_loss: 0.4206 - val_accuracy: 0.9552\n",
            "Epoch 201/300\n",
            " 94/101 [==========================>...] - ETA: 0s - loss: 0.4839 - accuracy: 0.9415INFO:tensorflow:Assets written to: /content/drive/MyDrive/intellihack-master/models/model-201.model/assets\n",
            "101/101 [==============================] - 3s 27ms/step - loss: 0.4854 - accuracy: 0.9414 - val_loss: 0.4195 - val_accuracy: 0.9552\n",
            "Epoch 202/300\n",
            "100/101 [============================>.] - ETA: 0s - loss: 0.4762 - accuracy: 0.9403INFO:tensorflow:Assets written to: /content/drive/MyDrive/intellihack-master/models/model-202.model/assets\n",
            "101/101 [==============================] - 3s 27ms/step - loss: 0.4760 - accuracy: 0.9405 - val_loss: 0.4183 - val_accuracy: 0.9552\n",
            "Epoch 203/300\n",
            "101/101 [==============================] - ETA: 0s - loss: 0.4779 - accuracy: 0.9420INFO:tensorflow:Assets written to: /content/drive/MyDrive/intellihack-master/models/model-203.model/assets\n",
            "101/101 [==============================] - 3s 27ms/step - loss: 0.4779 - accuracy: 0.9420 - val_loss: 0.4172 - val_accuracy: 0.9552\n",
            "Epoch 204/300\n",
            " 98/101 [============================>.] - ETA: 0s - loss: 0.4859 - accuracy: 0.9416INFO:tensorflow:Assets written to: /content/drive/MyDrive/intellihack-master/models/model-204.model/assets\n",
            "101/101 [==============================] - 4s 37ms/step - loss: 0.4851 - accuracy: 0.9420 - val_loss: 0.4163 - val_accuracy: 0.9552\n",
            "Epoch 205/300\n",
            "101/101 [==============================] - ETA: 0s - loss: 0.4787 - accuracy: 0.9411INFO:tensorflow:Assets written to: /content/drive/MyDrive/intellihack-master/models/model-205.model/assets\n",
            "101/101 [==============================] - 4s 39ms/step - loss: 0.4787 - accuracy: 0.9411 - val_loss: 0.4153 - val_accuracy: 0.9552\n",
            "Epoch 206/300\n",
            " 98/101 [============================>.] - ETA: 0s - loss: 0.4846 - accuracy: 0.9423INFO:tensorflow:Assets written to: /content/drive/MyDrive/intellihack-master/models/model-206.model/assets\n",
            "101/101 [==============================] - 4s 37ms/step - loss: 0.4848 - accuracy: 0.9417 - val_loss: 0.4143 - val_accuracy: 0.9552\n",
            "Epoch 207/300\n",
            " 89/101 [=========================>....] - ETA: 0s - loss: 0.4679 - accuracy: 0.9431INFO:tensorflow:Assets written to: /content/drive/MyDrive/intellihack-master/models/model-207.model/assets\n",
            "101/101 [==============================] - 3s 28ms/step - loss: 0.4691 - accuracy: 0.9423 - val_loss: 0.4132 - val_accuracy: 0.9552\n",
            "Epoch 208/300\n",
            "101/101 [==============================] - ETA: 0s - loss: 0.4751 - accuracy: 0.9411INFO:tensorflow:Assets written to: /content/drive/MyDrive/intellihack-master/models/model-208.model/assets\n",
            "101/101 [==============================] - 3s 29ms/step - loss: 0.4751 - accuracy: 0.9411 - val_loss: 0.4121 - val_accuracy: 0.9552\n",
            "Epoch 209/300\n",
            " 91/101 [==========================>...] - ETA: 0s - loss: 0.4799 - accuracy: 0.9406INFO:tensorflow:Assets written to: /content/drive/MyDrive/intellihack-master/models/model-209.model/assets\n",
            "101/101 [==============================] - 4s 37ms/step - loss: 0.4794 - accuracy: 0.9405 - val_loss: 0.4111 - val_accuracy: 0.9552\n",
            "Epoch 210/300\n",
            " 91/101 [==========================>...] - ETA: 0s - loss: 0.4717 - accuracy: 0.9451INFO:tensorflow:Assets written to: /content/drive/MyDrive/intellihack-master/models/model-210.model/assets\n",
            "101/101 [==============================] - 4s 37ms/step - loss: 0.4737 - accuracy: 0.9436 - val_loss: 0.4101 - val_accuracy: 0.9552\n",
            "Epoch 211/300\n",
            " 89/101 [=========================>....] - ETA: 0s - loss: 0.4703 - accuracy: 0.9428INFO:tensorflow:Assets written to: /content/drive/MyDrive/intellihack-master/models/model-211.model/assets\n",
            "101/101 [==============================] - 4s 37ms/step - loss: 0.4730 - accuracy: 0.9408 - val_loss: 0.4091 - val_accuracy: 0.9552\n",
            "Epoch 212/300\n",
            " 93/101 [==========================>...] - ETA: 0s - loss: 0.4683 - accuracy: 0.9452INFO:tensorflow:Assets written to: /content/drive/MyDrive/intellihack-master/models/model-212.model/assets\n",
            "101/101 [==============================] - 3s 27ms/step - loss: 0.4710 - accuracy: 0.9423 - val_loss: 0.4080 - val_accuracy: 0.9552\n",
            "Epoch 213/300\n",
            " 98/101 [============================>.] - ETA: 0s - loss: 0.4742 - accuracy: 0.9420INFO:tensorflow:Assets written to: /content/drive/MyDrive/intellihack-master/models/model-213.model/assets\n",
            "101/101 [==============================] - 4s 39ms/step - loss: 0.4737 - accuracy: 0.9423 - val_loss: 0.4070 - val_accuracy: 0.9552\n",
            "Epoch 214/300\n",
            " 86/101 [========================>.....] - ETA: 0s - loss: 0.4765 - accuracy: 0.9411INFO:tensorflow:Assets written to: /content/drive/MyDrive/intellihack-master/models/model-214.model/assets\n",
            "101/101 [==============================] - 3s 27ms/step - loss: 0.4749 - accuracy: 0.9417 - val_loss: 0.4060 - val_accuracy: 0.9552\n",
            "Epoch 215/300\n",
            " 99/101 [============================>.] - ETA: 0s - loss: 0.4729 - accuracy: 0.9416INFO:tensorflow:Assets written to: /content/drive/MyDrive/intellihack-master/models/model-215.model/assets\n",
            "101/101 [==============================] - 4s 36ms/step - loss: 0.4726 - accuracy: 0.9420 - val_loss: 0.4049 - val_accuracy: 0.9552\n",
            "Epoch 216/300\n",
            " 99/101 [============================>.] - ETA: 0s - loss: 0.4664 - accuracy: 0.9422INFO:tensorflow:Assets written to: /content/drive/MyDrive/intellihack-master/models/model-216.model/assets\n",
            "101/101 [==============================] - 3s 27ms/step - loss: 0.4683 - accuracy: 0.9420 - val_loss: 0.4038 - val_accuracy: 0.9552\n",
            "Epoch 217/300\n",
            " 95/101 [===========================>..] - ETA: 0s - loss: 0.4676 - accuracy: 0.9401INFO:tensorflow:Assets written to: /content/drive/MyDrive/intellihack-master/models/model-217.model/assets\n",
            "101/101 [==============================] - 3s 27ms/step - loss: 0.4666 - accuracy: 0.9411 - val_loss: 0.4027 - val_accuracy: 0.9552\n",
            "Epoch 218/300\n",
            " 96/101 [===========================>..] - ETA: 0s - loss: 0.4697 - accuracy: 0.9430INFO:tensorflow:Assets written to: /content/drive/MyDrive/intellihack-master/models/model-218.model/assets\n",
            "101/101 [==============================] - 3s 27ms/step - loss: 0.4719 - accuracy: 0.9423 - val_loss: 0.4017 - val_accuracy: 0.9552\n",
            "Epoch 219/300\n",
            " 95/101 [===========================>..] - ETA: 0s - loss: 0.4700 - accuracy: 0.9414INFO:tensorflow:Assets written to: /content/drive/MyDrive/intellihack-master/models/model-219.model/assets\n",
            "101/101 [==============================] - 3s 27ms/step - loss: 0.4689 - accuracy: 0.9430 - val_loss: 0.4007 - val_accuracy: 0.9552\n",
            "Epoch 220/300\n",
            " 89/101 [=========================>....] - ETA: 0s - loss: 0.4616 - accuracy: 0.9407INFO:tensorflow:Assets written to: /content/drive/MyDrive/intellihack-master/models/model-220.model/assets\n",
            "101/101 [==============================] - 4s 37ms/step - loss: 0.4612 - accuracy: 0.9427 - val_loss: 0.3995 - val_accuracy: 0.9552\n",
            "Epoch 221/300\n",
            " 90/101 [=========================>....] - ETA: 0s - loss: 0.4697 - accuracy: 0.9451INFO:tensorflow:Assets written to: /content/drive/MyDrive/intellihack-master/models/model-221.model/assets\n",
            "101/101 [==============================] - 5s 50ms/step - loss: 0.4738 - accuracy: 0.9430 - val_loss: 0.3986 - val_accuracy: 0.9552\n",
            "Epoch 222/300\n",
            "100/101 [============================>.] - ETA: 0s - loss: 0.4668 - accuracy: 0.9413INFO:tensorflow:Assets written to: /content/drive/MyDrive/intellihack-master/models/model-222.model/assets\n",
            "101/101 [==============================] - 3s 27ms/step - loss: 0.4673 - accuracy: 0.9411 - val_loss: 0.3975 - val_accuracy: 0.9552\n",
            "Epoch 223/300\n",
            " 88/101 [=========================>....] - ETA: 0s - loss: 0.4696 - accuracy: 0.9435INFO:tensorflow:Assets written to: /content/drive/MyDrive/intellihack-master/models/model-223.model/assets\n",
            "101/101 [==============================] - 3s 27ms/step - loss: 0.4681 - accuracy: 0.9442 - val_loss: 0.3965 - val_accuracy: 0.9552\n",
            "Epoch 224/300\n",
            "101/101 [==============================] - ETA: 0s - loss: 0.4707 - accuracy: 0.9423INFO:tensorflow:Assets written to: /content/drive/MyDrive/intellihack-master/models/model-224.model/assets\n",
            "101/101 [==============================] - 4s 37ms/step - loss: 0.4707 - accuracy: 0.9423 - val_loss: 0.3955 - val_accuracy: 0.9552\n",
            "Epoch 225/300\n",
            " 98/101 [============================>.] - ETA: 0s - loss: 0.4585 - accuracy: 0.9410INFO:tensorflow:Assets written to: /content/drive/MyDrive/intellihack-master/models/model-225.model/assets\n",
            "101/101 [==============================] - 3s 27ms/step - loss: 0.4581 - accuracy: 0.9411 - val_loss: 0.3945 - val_accuracy: 0.9552\n",
            "Epoch 226/300\n",
            "100/101 [============================>.] - ETA: 0s - loss: 0.4731 - accuracy: 0.9441INFO:tensorflow:Assets written to: /content/drive/MyDrive/intellihack-master/models/model-226.model/assets\n",
            "101/101 [==============================] - 4s 37ms/step - loss: 0.4730 - accuracy: 0.9442 - val_loss: 0.3936 - val_accuracy: 0.9552\n",
            "Epoch 227/300\n",
            " 98/101 [============================>.] - ETA: 0s - loss: 0.4677 - accuracy: 0.9429INFO:tensorflow:Assets written to: /content/drive/MyDrive/intellihack-master/models/model-227.model/assets\n",
            "101/101 [==============================] - 3s 27ms/step - loss: 0.4667 - accuracy: 0.9439 - val_loss: 0.3927 - val_accuracy: 0.9552\n",
            "Epoch 228/300\n",
            " 95/101 [===========================>..] - ETA: 0s - loss: 0.4679 - accuracy: 0.9395INFO:tensorflow:Assets written to: /content/drive/MyDrive/intellihack-master/models/model-228.model/assets\n",
            "101/101 [==============================] - 3s 27ms/step - loss: 0.4665 - accuracy: 0.9402 - val_loss: 0.3918 - val_accuracy: 0.9552\n",
            "Epoch 229/300\n",
            " 86/101 [========================>.....] - ETA: 0s - loss: 0.4613 - accuracy: 0.9430INFO:tensorflow:Assets written to: /content/drive/MyDrive/intellihack-master/models/model-229.model/assets\n",
            "101/101 [==============================] - 4s 38ms/step - loss: 0.4625 - accuracy: 0.9427 - val_loss: 0.3908 - val_accuracy: 0.9552\n",
            "Epoch 230/300\n",
            " 93/101 [==========================>...] - ETA: 0s - loss: 0.4583 - accuracy: 0.9429INFO:tensorflow:Assets written to: /content/drive/MyDrive/intellihack-master/models/model-230.model/assets\n",
            "101/101 [==============================] - 3s 27ms/step - loss: 0.4590 - accuracy: 0.9423 - val_loss: 0.3897 - val_accuracy: 0.9552\n",
            "Epoch 231/300\n",
            " 85/101 [========================>.....] - ETA: 0s - loss: 0.4662 - accuracy: 0.9401INFO:tensorflow:Assets written to: /content/drive/MyDrive/intellihack-master/models/model-231.model/assets\n",
            "101/101 [==============================] - 3s 27ms/step - loss: 0.4640 - accuracy: 0.9420 - val_loss: 0.3889 - val_accuracy: 0.9552\n",
            "Epoch 232/300\n",
            " 93/101 [==========================>...] - ETA: 0s - loss: 0.4732 - accuracy: 0.9415INFO:tensorflow:Assets written to: /content/drive/MyDrive/intellihack-master/models/model-232.model/assets\n",
            "101/101 [==============================] - 3s 27ms/step - loss: 0.4719 - accuracy: 0.9417 - val_loss: 0.3881 - val_accuracy: 0.9552\n",
            "Epoch 233/300\n",
            " 99/101 [============================>.] - ETA: 0s - loss: 0.4703 - accuracy: 0.9422INFO:tensorflow:Assets written to: /content/drive/MyDrive/intellihack-master/models/model-233.model/assets\n",
            "101/101 [==============================] - 3s 27ms/step - loss: 0.4702 - accuracy: 0.9423 - val_loss: 0.3873 - val_accuracy: 0.9552\n",
            "Epoch 234/300\n",
            " 86/101 [========================>.....] - ETA: 0s - loss: 0.4645 - accuracy: 0.9400INFO:tensorflow:Assets written to: /content/drive/MyDrive/intellihack-master/models/model-234.model/assets\n",
            "101/101 [==============================] - 3s 27ms/step - loss: 0.4627 - accuracy: 0.9427 - val_loss: 0.3863 - val_accuracy: 0.9552\n",
            "Epoch 235/300\n",
            " 90/101 [=========================>....] - ETA: 0s - loss: 0.4628 - accuracy: 0.9413INFO:tensorflow:Assets written to: /content/drive/MyDrive/intellihack-master/models/model-235.model/assets\n",
            "101/101 [==============================] - 3s 27ms/step - loss: 0.4616 - accuracy: 0.9411 - val_loss: 0.3853 - val_accuracy: 0.9552\n",
            "Epoch 236/300\n",
            "101/101 [==============================] - ETA: 0s - loss: 0.4585 - accuracy: 0.9436INFO:tensorflow:Assets written to: /content/drive/MyDrive/intellihack-master/models/model-236.model/assets\n",
            "101/101 [==============================] - 3s 27ms/step - loss: 0.4585 - accuracy: 0.9436 - val_loss: 0.3844 - val_accuracy: 0.9552\n",
            "Epoch 237/300\n",
            " 97/101 [===========================>..] - ETA: 0s - loss: 0.4613 - accuracy: 0.9423INFO:tensorflow:Assets written to: /content/drive/MyDrive/intellihack-master/models/model-237.model/assets\n",
            "101/101 [==============================] - 4s 40ms/step - loss: 0.4627 - accuracy: 0.9420 - val_loss: 0.3835 - val_accuracy: 0.9552\n",
            "Epoch 238/300\n",
            " 94/101 [==========================>...] - ETA: 0s - loss: 0.4551 - accuracy: 0.9441INFO:tensorflow:Assets written to: /content/drive/MyDrive/intellihack-master/models/model-238.model/assets\n",
            "101/101 [==============================] - 4s 36ms/step - loss: 0.4582 - accuracy: 0.9430 - val_loss: 0.3826 - val_accuracy: 0.9552\n",
            "Epoch 239/300\n",
            " 94/101 [==========================>...] - ETA: 0s - loss: 0.4431 - accuracy: 0.9425INFO:tensorflow:Assets written to: /content/drive/MyDrive/intellihack-master/models/model-239.model/assets\n",
            "101/101 [==============================] - 3s 27ms/step - loss: 0.4444 - accuracy: 0.9423 - val_loss: 0.3814 - val_accuracy: 0.9552\n",
            "Epoch 240/300\n",
            " 93/101 [==========================>...] - ETA: 0s - loss: 0.4662 - accuracy: 0.9395INFO:tensorflow:Assets written to: /content/drive/MyDrive/intellihack-master/models/model-240.model/assets\n",
            "101/101 [==============================] - 3s 27ms/step - loss: 0.4662 - accuracy: 0.9408 - val_loss: 0.3806 - val_accuracy: 0.9552\n",
            "Epoch 241/300\n",
            " 90/101 [=========================>....] - ETA: 0s - loss: 0.4567 - accuracy: 0.9413INFO:tensorflow:Assets written to: /content/drive/MyDrive/intellihack-master/models/model-241.model/assets\n",
            "101/101 [==============================] - 3s 27ms/step - loss: 0.4564 - accuracy: 0.9417 - val_loss: 0.3797 - val_accuracy: 0.9552\n",
            "Epoch 242/300\n",
            " 87/101 [========================>.....] - ETA: 0s - loss: 0.4598 - accuracy: 0.9400INFO:tensorflow:Assets written to: /content/drive/MyDrive/intellihack-master/models/model-242.model/assets\n",
            "101/101 [==============================] - 3s 28ms/step - loss: 0.4599 - accuracy: 0.9402 - val_loss: 0.3788 - val_accuracy: 0.9552\n",
            "Epoch 243/300\n",
            " 99/101 [============================>.] - ETA: 0s - loss: 0.4554 - accuracy: 0.9438INFO:tensorflow:Assets written to: /content/drive/MyDrive/intellihack-master/models/model-243.model/assets\n",
            "101/101 [==============================] - 4s 37ms/step - loss: 0.4555 - accuracy: 0.9436 - val_loss: 0.3779 - val_accuracy: 0.9552\n",
            "Epoch 244/300\n",
            " 89/101 [=========================>....] - ETA: 0s - loss: 0.4594 - accuracy: 0.9414INFO:tensorflow:Assets written to: /content/drive/MyDrive/intellihack-master/models/model-244.model/assets\n",
            "101/101 [==============================] - 3s 27ms/step - loss: 0.4579 - accuracy: 0.9423 - val_loss: 0.3770 - val_accuracy: 0.9552\n",
            "Epoch 245/300\n",
            " 97/101 [===========================>..] - ETA: 0s - loss: 0.4530 - accuracy: 0.9452INFO:tensorflow:Assets written to: /content/drive/MyDrive/intellihack-master/models/model-245.model/assets\n",
            "101/101 [==============================] - 4s 39ms/step - loss: 0.4548 - accuracy: 0.9436 - val_loss: 0.3762 - val_accuracy: 0.9552\n",
            "Epoch 246/300\n",
            " 93/101 [==========================>...] - ETA: 0s - loss: 0.4576 - accuracy: 0.9422INFO:tensorflow:Assets written to: /content/drive/MyDrive/intellihack-master/models/model-246.model/assets\n",
            "101/101 [==============================] - 4s 37ms/step - loss: 0.4550 - accuracy: 0.9417 - val_loss: 0.3753 - val_accuracy: 0.9552\n",
            "Epoch 247/300\n",
            " 96/101 [===========================>..] - ETA: 0s - loss: 0.4609 - accuracy: 0.9447INFO:tensorflow:Assets written to: /content/drive/MyDrive/intellihack-master/models/model-247.model/assets\n",
            "101/101 [==============================] - 3s 27ms/step - loss: 0.4605 - accuracy: 0.9433 - val_loss: 0.3745 - val_accuracy: 0.9552\n",
            "Epoch 248/300\n",
            "100/101 [============================>.] - ETA: 0s - loss: 0.4612 - accuracy: 0.9409INFO:tensorflow:Assets written to: /content/drive/MyDrive/intellihack-master/models/model-248.model/assets\n",
            "101/101 [==============================] - 3s 27ms/step - loss: 0.4614 - accuracy: 0.9408 - val_loss: 0.3737 - val_accuracy: 0.9552\n",
            "Epoch 249/300\n",
            " 98/101 [============================>.] - ETA: 0s - loss: 0.4557 - accuracy: 0.9429INFO:tensorflow:Assets written to: /content/drive/MyDrive/intellihack-master/models/model-249.model/assets\n",
            "101/101 [==============================] - 3s 27ms/step - loss: 0.4548 - accuracy: 0.9433 - val_loss: 0.3728 - val_accuracy: 0.9552\n",
            "Epoch 250/300\n",
            " 89/101 [=========================>....] - ETA: 0s - loss: 0.4528 - accuracy: 0.9473INFO:tensorflow:Assets written to: /content/drive/MyDrive/intellihack-master/models/model-250.model/assets\n",
            "101/101 [==============================] - 3s 27ms/step - loss: 0.4594 - accuracy: 0.9430 - val_loss: 0.3720 - val_accuracy: 0.9552\n",
            "Epoch 251/300\n",
            " 85/101 [========================>.....] - ETA: 0s - loss: 0.4635 - accuracy: 0.9434INFO:tensorflow:Assets written to: /content/drive/MyDrive/intellihack-master/models/model-251.model/assets\n",
            "101/101 [==============================] - 3s 26ms/step - loss: 0.4597 - accuracy: 0.9436 - val_loss: 0.3713 - val_accuracy: 0.9552\n",
            "Epoch 252/300\n",
            " 84/101 [=======================>......] - ETA: 0s - loss: 0.4473 - accuracy: 0.9464INFO:tensorflow:Assets written to: /content/drive/MyDrive/intellihack-master/models/model-252.model/assets\n",
            "101/101 [==============================] - 3s 27ms/step - loss: 0.4474 - accuracy: 0.9448 - val_loss: 0.3704 - val_accuracy: 0.9552\n",
            "Epoch 253/300\n",
            " 89/101 [=========================>....] - ETA: 0s - loss: 0.4588 - accuracy: 0.9407INFO:tensorflow:Assets written to: /content/drive/MyDrive/intellihack-master/models/model-253.model/assets\n",
            "101/101 [==============================] - 3s 27ms/step - loss: 0.4591 - accuracy: 0.9411 - val_loss: 0.3696 - val_accuracy: 0.9552\n",
            "Epoch 254/300\n",
            " 89/101 [=========================>....] - ETA: 0s - loss: 0.4445 - accuracy: 0.9403INFO:tensorflow:Assets written to: /content/drive/MyDrive/intellihack-master/models/model-254.model/assets\n",
            "101/101 [==============================] - 4s 39ms/step - loss: 0.4437 - accuracy: 0.9405 - val_loss: 0.3687 - val_accuracy: 0.9552\n",
            "Epoch 255/300\n",
            " 91/101 [==========================>...] - ETA: 0s - loss: 0.4544 - accuracy: 0.9437INFO:tensorflow:Assets written to: /content/drive/MyDrive/intellihack-master/models/model-255.model/assets\n",
            "101/101 [==============================] - 4s 36ms/step - loss: 0.4536 - accuracy: 0.9445 - val_loss: 0.3679 - val_accuracy: 0.9552\n",
            "Epoch 256/300\n",
            " 99/101 [============================>.] - ETA: 0s - loss: 0.4443 - accuracy: 0.9432INFO:tensorflow:Assets written to: /content/drive/MyDrive/intellihack-master/models/model-256.model/assets\n",
            "101/101 [==============================] - 3s 27ms/step - loss: 0.4446 - accuracy: 0.9430 - val_loss: 0.3670 - val_accuracy: 0.9552\n",
            "Epoch 257/300\n",
            "101/101 [==============================] - ETA: 0s - loss: 0.4505 - accuracy: 0.9439INFO:tensorflow:Assets written to: /content/drive/MyDrive/intellihack-master/models/model-257.model/assets\n",
            "101/101 [==============================] - 4s 37ms/step - loss: 0.4505 - accuracy: 0.9439 - val_loss: 0.3662 - val_accuracy: 0.9552\n",
            "Epoch 258/300\n",
            " 99/101 [============================>.] - ETA: 0s - loss: 0.4432 - accuracy: 0.9416INFO:tensorflow:Assets written to: /content/drive/MyDrive/intellihack-master/models/model-258.model/assets\n",
            "101/101 [==============================] - 3s 27ms/step - loss: 0.4428 - accuracy: 0.9420 - val_loss: 0.3652 - val_accuracy: 0.9552\n",
            "Epoch 259/300\n",
            " 89/101 [=========================>....] - ETA: 0s - loss: 0.4576 - accuracy: 0.9424INFO:tensorflow:Assets written to: /content/drive/MyDrive/intellihack-master/models/model-259.model/assets\n",
            "101/101 [==============================] - 3s 27ms/step - loss: 0.4542 - accuracy: 0.9436 - val_loss: 0.3645 - val_accuracy: 0.9552\n",
            "Epoch 260/300\n",
            " 96/101 [===========================>..] - ETA: 0s - loss: 0.4483 - accuracy: 0.9434INFO:tensorflow:Assets written to: /content/drive/MyDrive/intellihack-master/models/model-260.model/assets\n",
            "101/101 [==============================] - 3s 27ms/step - loss: 0.4476 - accuracy: 0.9433 - val_loss: 0.3637 - val_accuracy: 0.9552\n",
            "Epoch 261/300\n",
            " 96/101 [===========================>..] - ETA: 0s - loss: 0.4467 - accuracy: 0.9434INFO:tensorflow:Assets written to: /content/drive/MyDrive/intellihack-master/models/model-261.model/assets\n",
            "101/101 [==============================] - 4s 38ms/step - loss: 0.4458 - accuracy: 0.9430 - val_loss: 0.3629 - val_accuracy: 0.9552\n",
            "Epoch 262/300\n",
            " 98/101 [============================>.] - ETA: 0s - loss: 0.4520 - accuracy: 0.9442INFO:tensorflow:Assets written to: /content/drive/MyDrive/intellihack-master/models/model-262.model/assets\n",
            "101/101 [==============================] - 3s 27ms/step - loss: 0.4524 - accuracy: 0.9436 - val_loss: 0.3621 - val_accuracy: 0.9552\n",
            "Epoch 263/300\n",
            " 96/101 [===========================>..] - ETA: 0s - loss: 0.4505 - accuracy: 0.9456INFO:tensorflow:Assets written to: /content/drive/MyDrive/intellihack-master/models/model-263.model/assets\n",
            "101/101 [==============================] - 4s 37ms/step - loss: 0.4524 - accuracy: 0.9442 - val_loss: 0.3614 - val_accuracy: 0.9552\n",
            "Epoch 264/300\n",
            " 99/101 [============================>.] - ETA: 0s - loss: 0.4477 - accuracy: 0.9426INFO:tensorflow:Assets written to: /content/drive/MyDrive/intellihack-master/models/model-264.model/assets\n",
            "101/101 [==============================] - 4s 38ms/step - loss: 0.4477 - accuracy: 0.9430 - val_loss: 0.3608 - val_accuracy: 0.9552\n",
            "Epoch 265/300\n",
            " 93/101 [==========================>...] - ETA: 0s - loss: 0.4466 - accuracy: 0.9425INFO:tensorflow:Assets written to: /content/drive/MyDrive/intellihack-master/models/model-265.model/assets\n",
            "101/101 [==============================] - 3s 28ms/step - loss: 0.4456 - accuracy: 0.9423 - val_loss: 0.3600 - val_accuracy: 0.9552\n",
            "Epoch 266/300\n",
            " 87/101 [========================>.....] - ETA: 0s - loss: 0.4398 - accuracy: 0.9422INFO:tensorflow:Assets written to: /content/drive/MyDrive/intellihack-master/models/model-266.model/assets\n",
            "101/101 [==============================] - 3s 28ms/step - loss: 0.4425 - accuracy: 0.9417 - val_loss: 0.3591 - val_accuracy: 0.9552\n",
            "Epoch 267/300\n",
            " 84/101 [=======================>......] - ETA: 0s - loss: 0.4478 - accuracy: 0.9431INFO:tensorflow:Assets written to: /content/drive/MyDrive/intellihack-master/models/model-267.model/assets\n",
            "101/101 [==============================] - 4s 37ms/step - loss: 0.4456 - accuracy: 0.9423 - val_loss: 0.3583 - val_accuracy: 0.9552\n",
            "Epoch 268/300\n",
            " 94/101 [==========================>...] - ETA: 0s - loss: 0.4479 - accuracy: 0.9441INFO:tensorflow:Assets written to: /content/drive/MyDrive/intellihack-master/models/model-268.model/assets\n",
            "101/101 [==============================] - 3s 27ms/step - loss: 0.4489 - accuracy: 0.9433 - val_loss: 0.3577 - val_accuracy: 0.9552\n",
            "Epoch 269/300\n",
            " 85/101 [========================>.....] - ETA: 0s - loss: 0.4404 - accuracy: 0.9467INFO:tensorflow:Assets written to: /content/drive/MyDrive/intellihack-master/models/model-269.model/assets\n",
            "101/101 [==============================] - 4s 38ms/step - loss: 0.4420 - accuracy: 0.9439 - val_loss: 0.3568 - val_accuracy: 0.9552\n",
            "Epoch 270/300\n",
            " 96/101 [===========================>..] - ETA: 0s - loss: 0.4400 - accuracy: 0.9411INFO:tensorflow:Assets written to: /content/drive/MyDrive/intellihack-master/models/model-270.model/assets\n",
            "101/101 [==============================] - 4s 37ms/step - loss: 0.4398 - accuracy: 0.9423 - val_loss: 0.3560 - val_accuracy: 0.9552\n",
            "Epoch 271/300\n",
            " 94/101 [==========================>...] - ETA: 0s - loss: 0.4480 - accuracy: 0.9412INFO:tensorflow:Assets written to: /content/drive/MyDrive/intellihack-master/models/model-271.model/assets\n",
            "101/101 [==============================] - 3s 27ms/step - loss: 0.4467 - accuracy: 0.9430 - val_loss: 0.3554 - val_accuracy: 0.9552\n",
            "Epoch 272/300\n",
            " 99/101 [============================>.] - ETA: 0s - loss: 0.4438 - accuracy: 0.9432INFO:tensorflow:Assets written to: /content/drive/MyDrive/intellihack-master/models/model-272.model/assets\n",
            "101/101 [==============================] - 3s 27ms/step - loss: 0.4439 - accuracy: 0.9430 - val_loss: 0.3546 - val_accuracy: 0.9552\n",
            "Epoch 273/300\n",
            "100/101 [============================>.] - ETA: 0s - loss: 0.4420 - accuracy: 0.9431INFO:tensorflow:Assets written to: /content/drive/MyDrive/intellihack-master/models/model-273.model/assets\n",
            "101/101 [==============================] - 3s 27ms/step - loss: 0.4423 - accuracy: 0.9427 - val_loss: 0.3540 - val_accuracy: 0.9552\n",
            "Epoch 274/300\n",
            " 84/101 [=======================>......] - ETA: 0s - loss: 0.4352 - accuracy: 0.9446INFO:tensorflow:Assets written to: /content/drive/MyDrive/intellihack-master/models/model-274.model/assets\n",
            "101/101 [==============================] - 3s 27ms/step - loss: 0.4388 - accuracy: 0.9430 - val_loss: 0.3531 - val_accuracy: 0.9552\n",
            "Epoch 275/300\n",
            " 99/101 [============================>.] - ETA: 0s - loss: 0.4403 - accuracy: 0.9441INFO:tensorflow:Assets written to: /content/drive/MyDrive/intellihack-master/models/model-275.model/assets\n",
            "101/101 [==============================] - 4s 37ms/step - loss: 0.4403 - accuracy: 0.9442 - val_loss: 0.3524 - val_accuracy: 0.9552\n",
            "Epoch 276/300\n",
            " 99/101 [============================>.] - ETA: 0s - loss: 0.4383 - accuracy: 0.9426INFO:tensorflow:Assets written to: /content/drive/MyDrive/intellihack-master/models/model-276.model/assets\n",
            "101/101 [==============================] - 4s 37ms/step - loss: 0.4374 - accuracy: 0.9433 - val_loss: 0.3516 - val_accuracy: 0.9552\n",
            "Epoch 277/300\n",
            " 86/101 [========================>.....] - ETA: 0s - loss: 0.4455 - accuracy: 0.9433INFO:tensorflow:Assets written to: /content/drive/MyDrive/intellihack-master/models/model-277.model/assets\n",
            "101/101 [==============================] - 4s 39ms/step - loss: 0.4438 - accuracy: 0.9452 - val_loss: 0.3510 - val_accuracy: 0.9552\n",
            "Epoch 278/300\n",
            " 95/101 [===========================>..] - ETA: 0s - loss: 0.4423 - accuracy: 0.9444INFO:tensorflow:Assets written to: /content/drive/MyDrive/intellihack-master/models/model-278.model/assets\n",
            "101/101 [==============================] - 4s 36ms/step - loss: 0.4416 - accuracy: 0.9448 - val_loss: 0.3502 - val_accuracy: 0.9552\n",
            "Epoch 279/300\n",
            " 86/101 [========================>.....] - ETA: 0s - loss: 0.4408 - accuracy: 0.9411INFO:tensorflow:Assets written to: /content/drive/MyDrive/intellihack-master/models/model-279.model/assets\n",
            "101/101 [==============================] - 3s 27ms/step - loss: 0.4373 - accuracy: 0.9436 - val_loss: 0.3495 - val_accuracy: 0.9552\n",
            "Epoch 280/300\n",
            " 98/101 [============================>.] - ETA: 0s - loss: 0.4426 - accuracy: 0.9429INFO:tensorflow:Assets written to: /content/drive/MyDrive/intellihack-master/models/model-280.model/assets\n",
            "101/101 [==============================] - 3s 27ms/step - loss: 0.4402 - accuracy: 0.9442 - val_loss: 0.3488 - val_accuracy: 0.9552\n",
            "Epoch 281/300\n",
            " 86/101 [========================>.....] - ETA: 0s - loss: 0.4393 - accuracy: 0.9430INFO:tensorflow:Assets written to: /content/drive/MyDrive/intellihack-master/models/model-281.model/assets\n",
            "101/101 [==============================] - 3s 26ms/step - loss: 0.4352 - accuracy: 0.9420 - val_loss: 0.3480 - val_accuracy: 0.9552\n",
            "Epoch 282/300\n",
            " 93/101 [==========================>...] - ETA: 0s - loss: 0.4433 - accuracy: 0.9446INFO:tensorflow:Assets written to: /content/drive/MyDrive/intellihack-master/models/model-282.model/assets\n",
            "101/101 [==============================] - 3s 27ms/step - loss: 0.4428 - accuracy: 0.9445 - val_loss: 0.3473 - val_accuracy: 0.9552\n",
            "Epoch 283/300\n",
            " 89/101 [=========================>....] - ETA: 0s - loss: 0.4331 - accuracy: 0.9445INFO:tensorflow:Assets written to: /content/drive/MyDrive/intellihack-master/models/model-283.model/assets\n",
            "101/101 [==============================] - 3s 28ms/step - loss: 0.4346 - accuracy: 0.9430 - val_loss: 0.3466 - val_accuracy: 0.9552\n",
            "Epoch 284/300\n",
            " 93/101 [==========================>...] - ETA: 0s - loss: 0.4385 - accuracy: 0.9435INFO:tensorflow:Assets written to: /content/drive/MyDrive/intellihack-master/models/model-284.model/assets\n",
            "101/101 [==============================] - 3s 28ms/step - loss: 0.4383 - accuracy: 0.9442 - val_loss: 0.3459 - val_accuracy: 0.9552\n",
            "Epoch 285/300\n",
            " 96/101 [===========================>..] - ETA: 0s - loss: 0.4316 - accuracy: 0.9447INFO:tensorflow:Assets written to: /content/drive/MyDrive/intellihack-master/models/model-285.model/assets\n",
            "101/101 [==============================] - 3s 28ms/step - loss: 0.4308 - accuracy: 0.9448 - val_loss: 0.3451 - val_accuracy: 0.9552\n",
            "Epoch 286/300\n",
            " 95/101 [===========================>..] - ETA: 0s - loss: 0.4472 - accuracy: 0.9444INFO:tensorflow:Assets written to: /content/drive/MyDrive/intellihack-master/models/model-286.model/assets\n",
            "101/101 [==============================] - 4s 39ms/step - loss: 0.4461 - accuracy: 0.9445 - val_loss: 0.3445 - val_accuracy: 0.9552\n",
            "Epoch 287/300\n",
            " 90/101 [=========================>....] - ETA: 0s - loss: 0.4377 - accuracy: 0.9399INFO:tensorflow:Assets written to: /content/drive/MyDrive/intellihack-master/models/model-287.model/assets\n",
            "101/101 [==============================] - 3s 27ms/step - loss: 0.4330 - accuracy: 0.9417 - val_loss: 0.3438 - val_accuracy: 0.9552\n",
            "Epoch 288/300\n",
            " 98/101 [============================>.] - ETA: 0s - loss: 0.4372 - accuracy: 0.9439INFO:tensorflow:Assets written to: /content/drive/MyDrive/intellihack-master/models/model-288.model/assets\n",
            "101/101 [==============================] - 4s 37ms/step - loss: 0.4363 - accuracy: 0.9445 - val_loss: 0.3432 - val_accuracy: 0.9552\n",
            "Epoch 289/300\n",
            " 89/101 [=========================>....] - ETA: 0s - loss: 0.4217 - accuracy: 0.9470INFO:tensorflow:Assets written to: /content/drive/MyDrive/intellihack-master/models/model-289.model/assets\n",
            "101/101 [==============================] - 4s 36ms/step - loss: 0.4201 - accuracy: 0.9458 - val_loss: 0.3423 - val_accuracy: 0.9552\n",
            "Epoch 290/300\n",
            " 99/101 [============================>.] - ETA: 0s - loss: 0.4340 - accuracy: 0.9429INFO:tensorflow:Assets written to: /content/drive/MyDrive/intellihack-master/models/model-290.model/assets\n",
            "101/101 [==============================] - 3s 28ms/step - loss: 0.4341 - accuracy: 0.9433 - val_loss: 0.3417 - val_accuracy: 0.9552\n",
            "Epoch 291/300\n",
            " 96/101 [===========================>..] - ETA: 0s - loss: 0.4372 - accuracy: 0.9450INFO:tensorflow:Assets written to: /content/drive/MyDrive/intellihack-master/models/model-291.model/assets\n",
            "101/101 [==============================] - 3s 27ms/step - loss: 0.4368 - accuracy: 0.9452 - val_loss: 0.3410 - val_accuracy: 0.9552\n",
            "Epoch 292/300\n",
            " 91/101 [==========================>...] - ETA: 0s - loss: 0.4429 - accuracy: 0.9437INFO:tensorflow:Assets written to: /content/drive/MyDrive/intellihack-master/models/model-292.model/assets\n",
            "101/101 [==============================] - 3s 27ms/step - loss: 0.4413 - accuracy: 0.9439 - val_loss: 0.3405 - val_accuracy: 0.9552\n",
            "Epoch 293/300\n",
            " 99/101 [============================>.] - ETA: 0s - loss: 0.4390 - accuracy: 0.9432INFO:tensorflow:Assets written to: /content/drive/MyDrive/intellihack-master/models/model-293.model/assets\n",
            "101/101 [==============================] - 3s 27ms/step - loss: 0.4382 - accuracy: 0.9436 - val_loss: 0.3399 - val_accuracy: 0.9552\n",
            "Epoch 294/300\n",
            " 95/101 [===========================>..] - ETA: 0s - loss: 0.4358 - accuracy: 0.9431INFO:tensorflow:Assets written to: /content/drive/MyDrive/intellihack-master/models/model-294.model/assets\n",
            "101/101 [==============================] - 4s 38ms/step - loss: 0.4368 - accuracy: 0.9430 - val_loss: 0.3392 - val_accuracy: 0.9552\n",
            "Epoch 295/300\n",
            " 92/101 [==========================>...] - ETA: 0s - loss: 0.4314 - accuracy: 0.9474INFO:tensorflow:Assets written to: /content/drive/MyDrive/intellihack-master/models/model-295.model/assets\n",
            "101/101 [==============================] - 4s 37ms/step - loss: 0.4341 - accuracy: 0.9452 - val_loss: 0.3386 - val_accuracy: 0.9552\n",
            "Epoch 296/300\n",
            " 89/101 [=========================>....] - ETA: 0s - loss: 0.4248 - accuracy: 0.9428INFO:tensorflow:Assets written to: /content/drive/MyDrive/intellihack-master/models/model-296.model/assets\n",
            "101/101 [==============================] - 3s 26ms/step - loss: 0.4249 - accuracy: 0.9436 - val_loss: 0.3378 - val_accuracy: 0.9552\n",
            "Epoch 297/300\n",
            " 90/101 [=========================>....] - ETA: 0s - loss: 0.4281 - accuracy: 0.9441INFO:tensorflow:Assets written to: /content/drive/MyDrive/intellihack-master/models/model-297.model/assets\n",
            "101/101 [==============================] - 3s 27ms/step - loss: 0.4301 - accuracy: 0.9433 - val_loss: 0.3372 - val_accuracy: 0.9552\n",
            "Epoch 298/300\n",
            " 92/101 [==========================>...] - ETA: 0s - loss: 0.4370 - accuracy: 0.9446INFO:tensorflow:Assets written to: /content/drive/MyDrive/intellihack-master/models/model-298.model/assets\n",
            "101/101 [==============================] - 4s 36ms/step - loss: 0.4357 - accuracy: 0.9448 - val_loss: 0.3367 - val_accuracy: 0.9552\n",
            "Epoch 299/300\n",
            "100/101 [============================>.] - ETA: 0s - loss: 0.4384 - accuracy: 0.9444INFO:tensorflow:Assets written to: /content/drive/MyDrive/intellihack-master/models/model-299.model/assets\n",
            "101/101 [==============================] - 3s 27ms/step - loss: 0.4384 - accuracy: 0.9445 - val_loss: 0.3361 - val_accuracy: 0.9552\n",
            "Epoch 300/300\n",
            " 84/101 [=======================>......] - ETA: 0s - loss: 0.4310 - accuracy: 0.9449INFO:tensorflow:Assets written to: /content/drive/MyDrive/intellihack-master/models/model-300.model/assets\n",
            "101/101 [==============================] - 3s 27ms/step - loss: 0.4339 - accuracy: 0.9442 - val_loss: 0.3355 - val_accuracy: 0.9552\n"
          ]
        },
        {
          "data": {
            "text/plain": [
              "<keras.callbacks.History at 0x7f57c634f6d0>"
            ]
          },
          "execution_count": null,
          "metadata": {},
          "output_type": "execute_result"
        }
      ],
      "source": [
        "model.fit(train_data_scaled,train_target,epochs=300, validation_split = 0.1, callbacks=[checkpoint])"
      ]
    },
    {
      "cell_type": "markdown",
      "metadata": {
        "id": "SGugwcCMBsNl"
      },
      "source": [
        "# Plotting"
      ]
    },
    {
      "cell_type": "code",
      "execution_count": null,
      "metadata": {
        "colab": {
          "background_save": true
        },
        "id": "kXi-FJO6A-Cj",
        "outputId": "b7283f5d-0fec-4aec-84c9-a5fb40075a0d"
      },
      "outputs": [
        {
          "data": {
            "image/png": "[encoded data removed]",
            "text/plain": [
              "<Figure size 432x288 with 1 Axes>"
            ]
          },
          "metadata": {},
          "output_type": "display_data"
        }
      ],
      "source": [
        "from matplotlib import pyplot as plt\n",
        "\n",
        "plt.plot(model.history.history['loss'],label='loss')\n",
        "plt.plot(model.history.history['val_loss'],label='val loss')\n",
        "plt.legend()\n",
        "plt.xlabel('#epoch')\n",
        "plt.ylabel('loss')\n",
        "plt.show()"
      ]
    },
    {
      "cell_type": "code",
      "execution_count": null,
      "metadata": {
        "colab": {
          "background_save": true
        },
        "id": "HSHGMRtUBXC9",
        "outputId": "7d80be5d-243c-4515-8197-86b59b8fd384"
      },
      "outputs": [
        {
          "data": {
            "image/png": "[encoded data removed]",
            "text/plain": [
              "<Figure size 432x288 with 1 Axes>"
            ]
          },
          "metadata": {},
          "output_type": "display_data"
        }
      ],
      "source": [
        "plt.plot(model.history.history['accuracy'],label='accuracy')\n",
        "plt.plot(model.history.history['val_accuracy'],label='val accuracy')\n",
        "plt.legend()\n",
        "plt.xlabel('#epoch')\n",
        "plt.xlabel('loss')\n",
        "plt.show()"
      ]
    },
    {
      "cell_type": "markdown",
      "metadata": {
        "id": "UOfLGbaWnnw4"
      },
      "source": [
        "## Loading the best model"
      ]
    },
    {
      "cell_type": "code",
      "execution_count": null,
      "metadata": {
        "colab": {
          "background_save": true
        },
        "id": "ZiVqtDuznqXy",
        "outputId": "a7fab887-d5f7-43e1-8ece-e25c0c9bbb83"
      },
      "outputs": [
        {
          "ename": "OSError",
          "evalue": "ignored",
          "output_type": "error",
          "traceback": [
            "\u001b[0;31m---------------------------------------------------------------------------\u001b[0m",
            "\u001b[0;31mOSError\u001b[0m                                   Traceback (most recent call last)",
            "\u001b[0;32m<ipython-input-362-539a775568b8>\u001b[0m in \u001b[0;36m<module>\u001b[0;34m()\u001b[0m\n\u001b[1;32m      1\u001b[0m \u001b[0;32mfrom\u001b[0m \u001b[0mkeras\u001b[0m\u001b[0;34m.\u001b[0m\u001b[0mmodels\u001b[0m \u001b[0;32mimport\u001b[0m \u001b[0mload_model\u001b[0m\u001b[0;34m\u001b[0m\u001b[0;34m\u001b[0m\u001b[0m\n\u001b[1;32m      2\u001b[0m \u001b[0;34m\u001b[0m\u001b[0m\n\u001b[0;32m----> 3\u001b[0;31m \u001b[0mmodel\u001b[0m\u001b[0;34m=\u001b[0m\u001b[0mload_model\u001b[0m\u001b[0;34m(\u001b[0m\u001b[0;34m'FFNN-iris.model'\u001b[0m\u001b[0;34m)\u001b[0m\u001b[0;34m\u001b[0m\u001b[0;34m\u001b[0m\u001b[0m\n\u001b[0m",
            "\u001b[0;32m/usr/local/lib/python3.7/dist-packages/keras/utils/traceback_utils.py\u001b[0m in \u001b[0;36merror_handler\u001b[0;34m(*args, **kwargs)\u001b[0m\n\u001b[1;32m     65\u001b[0m     \u001b[0;32mexcept\u001b[0m \u001b[0mException\u001b[0m \u001b[0;32mas\u001b[0m \u001b[0me\u001b[0m\u001b[0;34m:\u001b[0m  \u001b[0;31m# pylint: disable=broad-except\u001b[0m\u001b[0;34m\u001b[0m\u001b[0;34m\u001b[0m\u001b[0m\n\u001b[1;32m     66\u001b[0m       \u001b[0mfiltered_tb\u001b[0m \u001b[0;34m=\u001b[0m \u001b[0m_process_traceback_frames\u001b[0m\u001b[0;34m(\u001b[0m\u001b[0me\u001b[0m\u001b[0;34m.\u001b[0m\u001b[0m__traceback__\u001b[0m\u001b[0;34m)\u001b[0m\u001b[0;34m\u001b[0m\u001b[0;34m\u001b[0m\u001b[0m\n\u001b[0;32m---> 67\u001b[0;31m       \u001b[0;32mraise\u001b[0m \u001b[0me\u001b[0m\u001b[0;34m.\u001b[0m\u001b[0mwith_traceback\u001b[0m\u001b[0;34m(\u001b[0m\u001b[0mfiltered_tb\u001b[0m\u001b[0;34m)\u001b[0m \u001b[0;32mfrom\u001b[0m \u001b[0;32mNone\u001b[0m\u001b[0;34m\u001b[0m\u001b[0;34m\u001b[0m\u001b[0m\n\u001b[0m\u001b[1;32m     68\u001b[0m     \u001b[0;32mfinally\u001b[0m\u001b[0;34m:\u001b[0m\u001b[0;34m\u001b[0m\u001b[0;34m\u001b[0m\u001b[0m\n\u001b[1;32m     69\u001b[0m       \u001b[0;32mdel\u001b[0m \u001b[0mfiltered_tb\u001b[0m\u001b[0;34m\u001b[0m\u001b[0;34m\u001b[0m\u001b[0m\n",
            "\u001b[0;32m/usr/local/lib/python3.7/dist-packages/keras/saving/save.py\u001b[0m in \u001b[0;36mload_model\u001b[0;34m(filepath, custom_objects, compile, options)\u001b[0m\n\u001b[1;32m    207\u001b[0m         \u001b[0;32mif\u001b[0m \u001b[0misinstance\u001b[0m\u001b[0;34m(\u001b[0m\u001b[0mfilepath\u001b[0m\u001b[0;34m,\u001b[0m \u001b[0mstr\u001b[0m\u001b[0;34m)\u001b[0m\u001b[0;34m:\u001b[0m\u001b[0;34m\u001b[0m\u001b[0;34m\u001b[0m\u001b[0m\n\u001b[1;32m    208\u001b[0m           \u001b[0;32mif\u001b[0m \u001b[0;32mnot\u001b[0m \u001b[0mtf\u001b[0m\u001b[0;34m.\u001b[0m\u001b[0mio\u001b[0m\u001b[0;34m.\u001b[0m\u001b[0mgfile\u001b[0m\u001b[0;34m.\u001b[0m\u001b[0mexists\u001b[0m\u001b[0;34m(\u001b[0m\u001b[0mfilepath\u001b[0m\u001b[0;34m)\u001b[0m\u001b[0;34m:\u001b[0m\u001b[0;34m\u001b[0m\u001b[0;34m\u001b[0m\u001b[0m\n\u001b[0;32m--> 209\u001b[0;31m             \u001b[0;32mraise\u001b[0m \u001b[0mIOError\u001b[0m\u001b[0;34m(\u001b[0m\u001b[0;34mf'No file or directory found at {filepath}'\u001b[0m\u001b[0;34m)\u001b[0m\u001b[0;34m\u001b[0m\u001b[0;34m\u001b[0m\u001b[0m\n\u001b[0m\u001b[1;32m    210\u001b[0m           \u001b[0;32mif\u001b[0m \u001b[0msaving_utils\u001b[0m\u001b[0;34m.\u001b[0m\u001b[0mis_hdf5_filepath\u001b[0m\u001b[0;34m(\u001b[0m\u001b[0mfilepath\u001b[0m\u001b[0;34m)\u001b[0m \u001b[0;32mand\u001b[0m \u001b[0mh5py\u001b[0m \u001b[0;32mis\u001b[0m \u001b[0;32mNone\u001b[0m\u001b[0;34m:\u001b[0m\u001b[0;34m\u001b[0m\u001b[0;34m\u001b[0m\u001b[0m\n\u001b[1;32m    211\u001b[0m             raise ImportError(\n",
            "\u001b[0;31mOSError\u001b[0m: No file or directory found at FFNN-iris.model"
          ]
        }
      ],
      "source": [
        "from keras.models import load_model \n",
        "\n",
        "model=load_model('FFNN-iris.model')"
      ]
    },
    {
      "cell_type": "markdown",
      "metadata": {
        "id": "oDQ_lCTIBvNi"
      },
      "source": [
        "# testing"
      ]
    },
    {
      "cell_type": "code",
      "execution_count": null,
      "metadata": {
        "colab": {
          "background_save": true
        },
        "id": "dSrY3xhRBwks"
      },
      "outputs": [],
      "source": [
        "predicted_target=model.predict(test_data_scaled)\n",
        "print(predicted_target)"
      ]
    },
    {
      "cell_type": "code",
      "execution_count": null,
      "metadata": {
        "colab": {
          "background_save": true
        },
        "id": "MLSv3RQEC0a_"
      },
      "outputs": [],
      "source": [
        "label=np.argmax(predicted_target, axis = 1)\n",
        "print(label)"
      ]
    },
    {
      "cell_type": "markdown",
      "metadata": {
        "id": "yH3Za9OVRLu9"
      },
      "source": [
        "# Write to CSV"
      ]
    },
    {
      "cell_type": "markdown",
      "metadata": {
        "id": "sqOgn48uYe6W"
      },
      "source": [
        "## Preparing"
      ]
    },
    {
      "cell_type": "code",
      "execution_count": null,
      "metadata": {
        "colab": {
          "background_save": true
        },
        "id": "h1D1X0pJT_tA"
      },
      "outputs": [],
      "source": [
        "indexes = np.array(test_dataset[:,0].reshape(-1,1), dtype = int)\n",
        "label = np.array(label.reshape(-1,1), dtype = int)\n",
        "\n",
        "print(indexes)\n",
        "print('------------------')\n",
        "print(label)"
      ]
    },
    {
      "cell_type": "code",
      "execution_count": null,
      "metadata": {
        "colab": {
          "background_save": true
        },
        "id": "NmpffvmWWyk_"
      },
      "outputs": [],
      "source": [
        "print(np.size(indexes))\n",
        "print(np.size(label))"
      ]
    },
    {
      "cell_type": "code",
      "execution_count": null,
      "metadata": {
        "colab": {
          "background_save": true
        },
        "id": "PpOJ-C_6Ugag"
      },
      "outputs": [],
      "source": [
        "data_to_be_written = np.asarray(np.concatenate((indexes, label), axis = 1))\n",
        "print(data_to_be_written)"
      ]
    },
    {
      "cell_type": "markdown",
      "metadata": {
        "id": "atTNRb1_Yhtb"
      },
      "source": [
        "## Writing"
      ]
    },
    {
      "cell_type": "code",
      "execution_count": null,
      "metadata": {
        "colab": {
          "background_save": true
        },
        "id": "NAeAt9ycZ0Hy"
      },
      "outputs": [],
      "source": [
        "final_df = pd.DataFrame(data=data_to_be_written, columns=['id', 'i'])"
      ]
    },
    {
      "cell_type": "code",
      "execution_count": null,
      "metadata": {
        "colab": {
          "background_save": true
        },
        "id": "zsn_ScD-bDSX"
      },
      "outputs": [],
      "source": [
        "final_df.to_csv('/content/drive/MyDrive/intellihack-master/submission.csv', index=False)"
      ]
    },
    {
      "cell_type": "code",
      "execution_count": null,
      "metadata": {
        "colab": {
          "background_save": true
        },
        "id": "AZUFgV2VcVZf"
      },
      "outputs": [],
      "source": [
        ""
      ]
    }
  ],
  "metadata": {
    "colab": {
      "name": "Intellihack master job 1.ipynb",
      "provenance": []
    },
    "kernelspec": {
      "display_name": "Python 3",
      "name": "python3"
    },
    "language_info": {
      "name": "python"
    }
  },
  "nbformat": 4,
  "nbformat_minor": 0
}